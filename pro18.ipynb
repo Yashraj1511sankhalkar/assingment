{
  "nbformat": 4,
  "nbformat_minor": 0,
  "metadata": {
    "colab": {
      "name": "pro18.ipynb",
      "provenance": [],
      "collapsed_sections": []
    },
    "kernelspec": {
      "name": "python3",
      "display_name": "Python 3"
    }
  },
  "cells": [
    {
      "cell_type": "code",
      "metadata": {
        "colab": {
          "base_uri": "https://localhost:8080/"
        },
        "id": "o3f9rKgerTin",
        "outputId": "5726b101-d777-436c-f809-4bebb8d352ed"
      },
      "source": [
        "print(\"welcome to the revision class of python\")"
      ],
      "execution_count": null,
      "outputs": [
        {
          "output_type": "stream",
          "text": [
            "welcome to the revision class of python\n"
          ],
          "name": "stdout"
        }
      ]
    },
    {
      "cell_type": "code",
      "metadata": {
        "colab": {
          "base_uri": "https://localhost:8080/"
        },
        "id": "Q5CChC2LsBp2",
        "outputId": "2685266b-515a-46af-bc89-d7cadc7b2d45"
      },
      "source": [
        "print('welcome to the revision class of python')"
      ],
      "execution_count": null,
      "outputs": [
        {
          "output_type": "stream",
          "text": [
            "welcome to the revision class of python\n"
          ],
          "name": "stdout"
        }
      ]
    },
    {
      "cell_type": "code",
      "metadata": {
        "colab": {
          "base_uri": "https://localhost:8080/"
        },
        "id": "hnVtE4qVsKwl",
        "outputId": "78c4179a-5076-4dab-8ad7-4d6e941fa0f8"
      },
      "source": [
        "if 5>2:\n",
        "  print(\"welcome to the revision class of python\")"
      ],
      "execution_count": null,
      "outputs": [
        {
          "output_type": "stream",
          "text": [
            "welcome to the revision class of python\n"
          ],
          "name": "stdout"
        }
      ]
    },
    {
      "cell_type": "code",
      "metadata": {
        "id": "rvb0PAf6sfB5"
      },
      "source": [
        "if 5>12:\n",
        "  print(\"welcome to the revision class of python\")"
      ],
      "execution_count": null,
      "outputs": []
    },
    {
      "cell_type": "code",
      "metadata": {
        "colab": {
          "base_uri": "https://localhost:8080/"
        },
        "id": "fGiiTMelsngU",
        "outputId": "83104175-fc1c-4622-8cc5-317a2eff4d1e"
      },
      "source": [
        "if 5>12:\n",
        "  print(\"welcome to the revision class of python\")\n",
        "print(\"welcome to the class\")"
      ],
      "execution_count": null,
      "outputs": [
        {
          "output_type": "stream",
          "text": [
            "welcome to the class\n"
          ],
          "name": "stdout"
        }
      ]
    },
    {
      "cell_type": "code",
      "metadata": {
        "id": "J4tWlTdfs7Wc"
      },
      "source": [
        "x=5\n",
        "y=\"Hello world\""
      ],
      "execution_count": null,
      "outputs": []
    },
    {
      "cell_type": "code",
      "metadata": {
        "colab": {
          "base_uri": "https://localhost:8080/"
        },
        "id": "aw_w2brwtEnc",
        "outputId": "8901b750-6fcd-4744-c0ca-a74477bc2128"
      },
      "source": [
        "x"
      ],
      "execution_count": null,
      "outputs": [
        {
          "output_type": "execute_result",
          "data": {
            "text/plain": [
              "5"
            ]
          },
          "metadata": {
            "tags": []
          },
          "execution_count": 7
        }
      ]
    },
    {
      "cell_type": "code",
      "metadata": {
        "colab": {
          "base_uri": "https://localhost:8080/",
          "height": 236
        },
        "id": "TKLHnhpUtFV1",
        "outputId": "5a712e54-432c-4f81-8471-007ef865b5b3"
      },
      "source": [
        "y"
      ],
      "execution_count": null,
      "outputs": [
        {
          "output_type": "execute_result",
          "data": {
            "application/vnd.google.colaboratory.intrinsic+json": {
              "type": "string"
            },
            "text/plain": [
              "'Hello world'"
            ]
          },
          "metadata": {
            "tags": []
          },
          "execution_count": 8
        }
      ]
    },
    {
      "cell_type": "code",
      "metadata": {
        "colab": {
          "base_uri": "https://localhost:8080/"
        },
        "id": "dnt1Bs8StIxq",
        "outputId": "c70aa8c6-3e0e-45dc-b3ff-331fdf08be25"
      },
      "source": [
        "#this is a comment\n",
        "print(\"welcome to the revision class of python\")"
      ],
      "execution_count": null,
      "outputs": [
        {
          "output_type": "stream",
          "text": [
            "welcome to the revision class of python\n"
          ],
          "name": "stdout"
        }
      ]
    },
    {
      "cell_type": "code",
      "metadata": {
        "colab": {
          "base_uri": "https://localhost:8080/"
        },
        "id": "zWHG-asttnUP",
        "outputId": "c539a2d2-1a2c-4877-95bd-8575344db18b"
      },
      "source": [
        "x=5\n",
        "y=\"hello world\"\n",
        "print(x)\n",
        "print(y)"
      ],
      "execution_count": null,
      "outputs": [
        {
          "output_type": "stream",
          "text": [
            "5\n",
            "hello world\n"
          ],
          "name": "stdout"
        }
      ]
    },
    {
      "cell_type": "code",
      "metadata": {
        "colab": {
          "base_uri": "https://localhost:8080/"
        },
        "id": "-g6tkACztxLa",
        "outputId": "0c87155b-c5f7-4dda-da35-8291ec9b7039"
      },
      "source": [
        "x=5\n",
        "y=\"hello world\"\n",
        "print(type(x))\n",
        "print(type(y))"
      ],
      "execution_count": null,
      "outputs": [
        {
          "output_type": "stream",
          "text": [
            "<class 'int'>\n",
            "<class 'str'>\n"
          ],
          "name": "stdout"
        }
      ]
    },
    {
      "cell_type": "code",
      "metadata": {
        "colab": {
          "base_uri": "https://localhost:8080/"
        },
        "id": "ozhaZO1ZuRKm",
        "outputId": "9d9c437b-77f6-4e11-f32d-7c2d16dee71d"
      },
      "source": [
        "x=50.5\n",
        "y=1j\n",
        "print(type(x))\n",
        "print(type(y))"
      ],
      "execution_count": null,
      "outputs": [
        {
          "output_type": "stream",
          "text": [
            "<class 'float'>\n",
            "<class 'complex'>\n"
          ],
          "name": "stdout"
        }
      ]
    },
    {
      "cell_type": "code",
      "metadata": {
        "colab": {
          "base_uri": "https://localhost:8080/"
        },
        "id": "7ogK9N_xuf9o",
        "outputId": "12e3f89a-f153-4e92-a9c9-a6a041ba3aa6"
      },
      "source": [
        "x=[\"apple\",\"banana\",\"watermelon\"]\n",
        "y=range(6)\n",
        "print(type(x))\n",
        "print(type(y))"
      ],
      "execution_count": null,
      "outputs": [
        {
          "output_type": "stream",
          "text": [
            "<class 'list'>\n",
            "<class 'range'>\n"
          ],
          "name": "stdout"
        }
      ]
    },
    {
      "cell_type": "code",
      "metadata": {
        "colab": {
          "base_uri": "https://localhost:8080/"
        },
        "id": "90LGdeUluyDE",
        "outputId": "4a1c214d-3c3c-4aa8-e7ea-bbf213ed5236"
      },
      "source": [
        "x=(\"apple\",\"banana\",\"watermelon\")\n",
        "print(type(x))\n"
      ],
      "execution_count": null,
      "outputs": [
        {
          "output_type": "stream",
          "text": [
            "<class 'tuple'>\n"
          ],
          "name": "stdout"
        }
      ]
    },
    {
      "cell_type": "code",
      "metadata": {
        "colab": {
          "base_uri": "https://localhost:8080/"
        },
        "id": "1C02mp6yu78j",
        "outputId": "e13725c8-f683-4349-f0d5-ce50eb280305"
      },
      "source": [
        "x={\"Name\":\"apple\",\"type\":\"fruit\"}\n",
        "print(type(x))\n",
        "print(x)"
      ],
      "execution_count": null,
      "outputs": [
        {
          "output_type": "stream",
          "text": [
            "<class 'dict'>\n",
            "{'Name': 'apple', 'type': 'fruit'}\n"
          ],
          "name": "stdout"
        }
      ]
    },
    {
      "cell_type": "code",
      "metadata": {
        "colab": {
          "base_uri": "https://localhost:8080/"
        },
        "id": "FgcKVeKKvGLZ",
        "outputId": "9b4dcacb-64b3-40f2-d792-e0efc4244bc6"
      },
      "source": [
        "x=frozenset({\"Name\",\"apple\",\"orange\",\"cherry\"})\n",
        "print(type(x))\n",
        "print(x)"
      ],
      "execution_count": null,
      "outputs": [
        {
          "output_type": "stream",
          "text": [
            "<class 'frozenset'>\n",
            "frozenset({'orange', 'Name', 'apple', 'cherry'})\n"
          ],
          "name": "stdout"
        }
      ]
    },
    {
      "cell_type": "code",
      "metadata": {
        "colab": {
          "base_uri": "https://localhost:8080/"
        },
        "id": "8f5RPXHtvnVu",
        "outputId": "d36b8298-10e8-4a1e-cf2e-0e40b9100e80"
      },
      "source": [
        "x=True\n",
        "print(type(x))\n",
        "print(x)"
      ],
      "execution_count": null,
      "outputs": [
        {
          "output_type": "stream",
          "text": [
            "<class 'bool'>\n",
            "True\n"
          ],
          "name": "stdout"
        }
      ]
    },
    {
      "cell_type": "code",
      "metadata": {
        "colab": {
          "base_uri": "https://localhost:8080/"
        },
        "id": "E_w3xJlKv6ir",
        "outputId": "349decaf-e3f7-4cd3-e206-a2eb0e0d5c2f"
      },
      "source": [
        "x=b\"hello\"\n",
        "print(type(x))\n",
        "print(x)"
      ],
      "execution_count": null,
      "outputs": [
        {
          "output_type": "stream",
          "text": [
            "<class 'bytes'>\n",
            "b'hello'\n"
          ],
          "name": "stdout"
        }
      ]
    },
    {
      "cell_type": "code",
      "metadata": {
        "colab": {
          "base_uri": "https://localhost:8080/"
        },
        "id": "mpOE5B01wC78",
        "outputId": "35c49e3d-4d88-4882-a75a-6b2ee978ac80"
      },
      "source": [
        "x=bytearray(5)\n",
        "print(type(x))\n",
        "print(x)"
      ],
      "execution_count": null,
      "outputs": [
        {
          "output_type": "stream",
          "text": [
            "<class 'bytearray'>\n",
            "bytearray(b'\\x00\\x00\\x00\\x00\\x00')\n"
          ],
          "name": "stdout"
        }
      ]
    },
    {
      "cell_type": "code",
      "metadata": {
        "colab": {
          "base_uri": "https://localhost:8080/"
        },
        "id": "y7DD-_ndwaBF",
        "outputId": "f4607937-b7ca-4e2c-a233-0d5376c44ae0"
      },
      "source": [
        "x=memoryview(bytes(5))\n",
        "x"
      ],
      "execution_count": null,
      "outputs": [
        {
          "output_type": "execute_result",
          "data": {
            "text/plain": [
              "<memory at 0x7f09484f8d08>"
            ]
          },
          "metadata": {
            "tags": []
          },
          "execution_count": 20
        }
      ]
    },
    {
      "cell_type": "code",
      "metadata": {
        "id": "FjBbJrw3wmwc"
      },
      "source": [
        "x=1#int\n",
        "y=2.8#float\n",
        "z=1j#complex"
      ],
      "execution_count": null,
      "outputs": []
    },
    {
      "cell_type": "code",
      "metadata": {
        "colab": {
          "base_uri": "https://localhost:8080/"
        },
        "id": "27VgC1ZuxC1y",
        "outputId": "3722330e-72a9-4598-9441-eea20e3e39d8"
      },
      "source": [
        "y"
      ],
      "execution_count": null,
      "outputs": [
        {
          "output_type": "execute_result",
          "data": {
            "text/plain": [
              "2.8"
            ]
          },
          "metadata": {
            "tags": []
          },
          "execution_count": 22
        }
      ]
    },
    {
      "cell_type": "code",
      "metadata": {
        "colab": {
          "base_uri": "https://localhost:8080/"
        },
        "id": "fe-1AMOgxF3h",
        "outputId": "541a1d76-13ae-4122-d6bb-79f3c5e325a0"
      },
      "source": [
        "print(type(x))\n",
        "print(type(y))\n",
        "print(type(z))"
      ],
      "execution_count": null,
      "outputs": [
        {
          "output_type": "stream",
          "text": [
            "<class 'int'>\n",
            "<class 'float'>\n",
            "<class 'complex'>\n"
          ],
          "name": "stdout"
        }
      ]
    },
    {
      "cell_type": "code",
      "metadata": {
        "colab": {
          "base_uri": "https://localhost:8080/"
        },
        "id": "PjYbqhrFxaho",
        "outputId": "b96922b0-e3d5-4dd3-d979-f282a7fbb627"
      },
      "source": [
        "type(x)\n",
        "type(y)\n",
        "type(z)"
      ],
      "execution_count": null,
      "outputs": [
        {
          "output_type": "execute_result",
          "data": {
            "text/plain": [
              "complex"
            ]
          },
          "metadata": {
            "tags": []
          },
          "execution_count": 24
        }
      ]
    },
    {
      "cell_type": "code",
      "metadata": {
        "colab": {
          "base_uri": "https://localhost:8080/"
        },
        "id": "Q-QrtyXmxnEy",
        "outputId": "fa7038f5-359c-487d-9a6a-190d4674419c"
      },
      "source": [
        "x= int(1)\n",
        "y=int(9.8)\n",
        "z=int('3')\n",
        "print(type(x))\n",
        "print(type(y))\n",
        "print(type(z))"
      ],
      "execution_count": null,
      "outputs": [
        {
          "output_type": "stream",
          "text": [
            "<class 'int'>\n",
            "<class 'int'>\n",
            "<class 'int'>\n"
          ],
          "name": "stdout"
        }
      ]
    },
    {
      "cell_type": "code",
      "metadata": {
        "colab": {
          "base_uri": "https://localhost:8080/"
        },
        "id": "qJvYooVPx54E",
        "outputId": "a0f99bf1-5c52-41c7-afd4-205f4f55891e"
      },
      "source": [
        "x= str(\"Hello\")\n",
        "y=str(9.4)\n",
        "z=str(7)\n",
        "print(type(x))\n",
        "print(type(y))\n",
        "print(type(z))"
      ],
      "execution_count": 2,
      "outputs": [
        {
          "output_type": "stream",
          "text": [
            "<class 'str'>\n",
            "<class 'str'>\n",
            "<class 'str'>\n"
          ],
          "name": "stdout"
        }
      ]
    },
    {
      "cell_type": "code",
      "metadata": {
        "id": "EuvtFkJtyL-E"
      },
      "source": [
        "a=\"my name is yashraj,from AE,acharya institute\""
      ],
      "execution_count": 5,
      "outputs": []
    },
    {
      "cell_type": "code",
      "metadata": {
        "colab": {
          "base_uri": "https://localhost:8080/"
        },
        "id": "lnDg7qnkzO6p",
        "outputId": "4dc7079a-1d5f-479a-9a10-fa2b3aa8b018"
      },
      "source": [
        "print(a)"
      ],
      "execution_count": 6,
      "outputs": [
        {
          "output_type": "stream",
          "text": [
            "my name is yashraj,from AE,acharya institute\n"
          ],
          "name": "stdout"
        }
      ]
    },
    {
      "cell_type": "code",
      "metadata": {
        "colab": {
          "base_uri": "https://localhost:8080/"
        },
        "id": "cMKt36rvzRlj",
        "outputId": "b90b5788-df6d-4415-f7b3-681b82ff8ad4"
      },
      "source": [
        "print(10>9)\n",
        "print(10==9)\n",
        "print(10<9)"
      ],
      "execution_count": null,
      "outputs": [
        {
          "output_type": "stream",
          "text": [
            "True\n",
            "False\n",
            "False\n"
          ],
          "name": "stdout"
        }
      ]
    },
    {
      "cell_type": "code",
      "metadata": {
        "colab": {
          "base_uri": "https://localhost:8080/"
        },
        "id": "0wsMis0DzV4H",
        "outputId": "c187d012-50b9-4454-a08d-d3e55800463e"
      },
      "source": [
        "a=200\n",
        "b=33\n",
        "if b>a:\n",
        "  print(\"B is greater than a\")\n",
        "else:\n",
        "  print(\"B is not greater than a\")"
      ],
      "execution_count": null,
      "outputs": [
        {
          "output_type": "stream",
          "text": [
            "B is not greater than a\n"
          ],
          "name": "stdout"
        }
      ]
    },
    {
      "cell_type": "code",
      "metadata": {
        "colab": {
          "base_uri": "https://localhost:8080/"
        },
        "id": "RrUJtpSTz7po",
        "outputId": "6ce2d566-61e2-4726-ebbc-3b9384f8e8a3"
      },
      "source": [
        "a=20\n",
        "b=33\n",
        "if b>a:\n",
        "  print(\"B is greater than a\")\n",
        "else:\n",
        "  print(\"B is not greater than a\")"
      ],
      "execution_count": null,
      "outputs": [
        {
          "output_type": "stream",
          "text": [
            "B is greater than a\n"
          ],
          "name": "stdout"
        }
      ]
    },
    {
      "cell_type": "code",
      "metadata": {
        "colab": {
          "base_uri": "https://localhost:8080/"
        },
        "id": "XBkfZqzSz-hR",
        "outputId": "6015f0e6-96e2-4a5a-d705-3898f6cc126a"
      },
      "source": [
        "print(10+5)"
      ],
      "execution_count": null,
      "outputs": [
        {
          "output_type": "stream",
          "text": [
            "15\n"
          ],
          "name": "stdout"
        }
      ]
    },
    {
      "cell_type": "code",
      "metadata": {
        "colab": {
          "base_uri": "https://localhost:8080/"
        },
        "id": "5-At48Hi0Ym7",
        "outputId": "2ebb2ad8-a152-4440-ee36-6b16d5469678"
      },
      "source": [
        "x=2\n",
        "y=4\n",
        "print(x+y)\n",
        "print(x-y)\n",
        "print (x*y)\n",
        "print (x/y)\n",
        "print (x%y)\n",
        "print (x**y)\n",
        "print (x//y)"
      ],
      "execution_count": null,
      "outputs": [
        {
          "output_type": "stream",
          "text": [
            "6\n",
            "-2\n",
            "8\n",
            "0.5\n",
            "2\n",
            "16\n",
            "0\n"
          ],
          "name": "stdout"
        }
      ]
    },
    {
      "cell_type": "code",
      "metadata": {
        "colab": {
          "base_uri": "https://localhost:8080/"
        },
        "id": "Dg_gu3BD0fGN",
        "outputId": "07d97096-e3b6-4233-9a3c-d036b4c19314"
      },
      "source": [
        "thisislist=[\"apple\",\"banana\",\"grapes\"]\n",
        "thisislist"
      ],
      "execution_count": null,
      "outputs": [
        {
          "output_type": "execute_result",
          "data": {
            "text/plain": [
              "['apple', 'banana', 'grapes']"
            ]
          },
          "metadata": {
            "tags": []
          },
          "execution_count": 34
        }
      ]
    },
    {
      "cell_type": "code",
      "metadata": {
        "id": "sgqHYGo01gbj"
      },
      "source": [
        "thisislist=[\"apple\",\"banana\",\"grapes\",\"apple1\",\"banana1\",\"grapes1\"]"
      ],
      "execution_count": null,
      "outputs": []
    },
    {
      "cell_type": "code",
      "metadata": {
        "colab": {
          "base_uri": "https://localhost:8080/"
        },
        "id": "_Efrc0LF15do",
        "outputId": "8df1e5f6-3cdf-4877-aedc-9318586a48f7"
      },
      "source": [
        "print(thisislist[1])"
      ],
      "execution_count": null,
      "outputs": [
        {
          "output_type": "stream",
          "text": [
            "banana\n"
          ],
          "name": "stdout"
        }
      ]
    },
    {
      "cell_type": "code",
      "metadata": {
        "colab": {
          "base_uri": "https://localhost:8080/"
        },
        "id": "BRN1Zu1n1_-0",
        "outputId": "d2a8c2c2-473e-405a-9efb-bac693436ebb"
      },
      "source": [
        "print(thisislist[0:2])"
      ],
      "execution_count": null,
      "outputs": [
        {
          "output_type": "stream",
          "text": [
            "['apple', 'banana']\n"
          ],
          "name": "stdout"
        }
      ]
    },
    {
      "cell_type": "code",
      "metadata": {
        "colab": {
          "base_uri": "https://localhost:8080/"
        },
        "id": "crAGS2Fr2DrJ",
        "outputId": "10465aa6-8db5-4530-f0fb-882141224fba"
      },
      "source": [
        "print(thisislist[0:4])"
      ],
      "execution_count": null,
      "outputs": [
        {
          "output_type": "stream",
          "text": [
            "['apple', 'banana', 'grapes', 'apple1']\n"
          ],
          "name": "stdout"
        }
      ]
    },
    {
      "cell_type": "code",
      "metadata": {
        "colab": {
          "base_uri": "https://localhost:8080/"
        },
        "id": "GAsZJZCt2Jym",
        "outputId": "3e92cdbf-b9f3-46db-c64b-377960a29002"
      },
      "source": [
        "print(thisislist[-1])"
      ],
      "execution_count": null,
      "outputs": [
        {
          "output_type": "stream",
          "text": [
            "grapes1\n"
          ],
          "name": "stdout"
        }
      ]
    },
    {
      "cell_type": "code",
      "metadata": {
        "colab": {
          "base_uri": "https://localhost:8080/"
        },
        "id": "dpp4jGFi2LoJ",
        "outputId": "2c50bb29-7ed3-46bb-c0d6-a972913c6c3c"
      },
      "source": [
        "print(thisislist[:4])"
      ],
      "execution_count": null,
      "outputs": [
        {
          "output_type": "stream",
          "text": [
            "['apple', 'banana', 'grapes', 'apple1']\n"
          ],
          "name": "stdout"
        }
      ]
    },
    {
      "cell_type": "code",
      "metadata": {
        "colab": {
          "base_uri": "https://localhost:8080/"
        },
        "id": "1oJ8IJfM2ZYe",
        "outputId": "87824a55-f789-4006-f377-1f89ccdc108a"
      },
      "source": [
        "print(thisislist[2:])"
      ],
      "execution_count": null,
      "outputs": [
        {
          "output_type": "stream",
          "text": [
            "['grapes', 'apple1', 'banana1', 'grapes1']\n"
          ],
          "name": "stdout"
        }
      ]
    },
    {
      "cell_type": "code",
      "metadata": {
        "colab": {
          "base_uri": "https://localhost:8080/"
        },
        "id": "YypKH_SA2ex-",
        "outputId": "0b054f26-0830-42fc-b017-d2f69a134e3c"
      },
      "source": [
        "print(thisislist)"
      ],
      "execution_count": null,
      "outputs": [
        {
          "output_type": "stream",
          "text": [
            "['apple', 'banana', 'grapes', 'apple1', 'banana1', 'grapes1']\n"
          ],
          "name": "stdout"
        }
      ]
    },
    {
      "cell_type": "code",
      "metadata": {
        "id": "4ueVx3mV2gmq"
      },
      "source": [
        "thisislist[1]=\"blackcurrent\""
      ],
      "execution_count": null,
      "outputs": []
    },
    {
      "cell_type": "code",
      "metadata": {
        "colab": {
          "base_uri": "https://localhost:8080/"
        },
        "id": "J4Zn7zmQ3BJE",
        "outputId": "d1367941-7089-4816-e28b-6926c9e685a2"
      },
      "source": [
        "print(thisislist)"
      ],
      "execution_count": null,
      "outputs": [
        {
          "output_type": "stream",
          "text": [
            "['apple', 'blackcurrent', 'grapes', 'apple1', 'banana1', 'grapes1']\n"
          ],
          "name": "stdout"
        }
      ]
    },
    {
      "cell_type": "code",
      "metadata": {
        "colab": {
          "base_uri": "https://localhost:8080/"
        },
        "id": "xaDF2fK53DX8",
        "outputId": "2f9e3036-924c-4d97-c2b9-2a1189047fe7"
      },
      "source": [
        "thisislist=[\"apple\",\"banana\",\"grapes\",\"apple1\",\"banana1\",\"grapes1\"]\n",
        "thisislist[1] = [\"blackcurrent\",\"watermelon\"]\n",
        "print(thisislist)"
      ],
      "execution_count": null,
      "outputs": [
        {
          "output_type": "stream",
          "text": [
            "['apple', ['blackcurrent', 'watermelon'], 'grapes', 'apple1', 'banana1', 'grapes1']\n"
          ],
          "name": "stdout"
        }
      ]
    },
    {
      "cell_type": "code",
      "metadata": {
        "colab": {
          "base_uri": "https://localhost:8080/"
        },
        "id": "Cf2SlR0M3XxI",
        "outputId": "5ebbb7c6-b397-4eab-dcbc-be1ae5dae24e"
      },
      "source": [
        "thisislist=[\"apple\",\"banana\",\"grapes\",\"apple1\",\"banana1\",\"grapes1\"]\n",
        "thisislist[4] = [\"jackfruit\"]\n",
        "print(thisislist)"
      ],
      "execution_count": null,
      "outputs": [
        {
          "output_type": "stream",
          "text": [
            "['apple', 'banana', 'grapes', 'apple1', ['jackfruit'], 'grapes1']\n"
          ],
          "name": "stdout"
        }
      ]
    },
    {
      "cell_type": "code",
      "metadata": {
        "colab": {
          "base_uri": "https://localhost:8080/"
        },
        "id": "2TolxvOh3x0u",
        "outputId": "21cf276a-bb0f-486f-b8b9-55ffbfb9104b"
      },
      "source": [
        "thisislist=[\"apple\",\"banana\",\"grapes\",\"apple1\",\"banana1\",\"grapes1\"]\n",
        "thisislist.insert(1,\"orange\")\n",
        "print(thisislist)"
      ],
      "execution_count": null,
      "outputs": [
        {
          "output_type": "stream",
          "text": [
            "['apple', 'orange', 'banana', 'grapes', 'apple1', 'banana1', 'grapes1']\n"
          ],
          "name": "stdout"
        }
      ]
    },
    {
      "cell_type": "code",
      "metadata": {
        "colab": {
          "base_uri": "https://localhost:8080/"
        },
        "id": "0eO9k7Uc6YB6",
        "outputId": "cb99ff9a-f394-4838-9fa0-3884e1630610"
      },
      "source": [
        "thisislist=[\"apple\",\"banana\",\"grapes\",\"apple1\",\"banana1\",\"grapes1\"]\n",
        "thisislist.insert(2,\"orange\")\n",
        "print(thisislist)"
      ],
      "execution_count": null,
      "outputs": [
        {
          "output_type": "stream",
          "text": [
            "['apple', 'banana', 'orange', 'grapes', 'apple1', 'banana1', 'grapes1']\n"
          ],
          "name": "stdout"
        }
      ]
    },
    {
      "cell_type": "code",
      "metadata": {
        "colab": {
          "base_uri": "https://localhost:8080/"
        },
        "id": "CcZHogFG6enj",
        "outputId": "b1faff7b-3f4e-4e3b-d29b-8f0b9a8aac42"
      },
      "source": [
        "thisislist=[\"apple\",\"banana\",\"grapes\",\"apple1\",\"banana1\",\"grapes1\"]\n",
        "tropical=[\"mango\",\"pineapple\",\"papaya\",\"mango\",\"pineapple1\",\"papaya1\"]\n",
        "thisislist.extend(tropical)\n",
        "print(thisislist)"
      ],
      "execution_count": null,
      "outputs": [
        {
          "output_type": "stream",
          "text": [
            "['apple', 'banana', 'grapes', 'apple1', 'banana1', 'grapes1', 'mango', 'pineapple', 'papaya', 'mango', 'pineapple1', 'papaya1']\n"
          ],
          "name": "stdout"
        }
      ]
    },
    {
      "cell_type": "code",
      "metadata": {
        "colab": {
          "base_uri": "https://localhost:8080/"
        },
        "id": "1znMMmlv60jw",
        "outputId": "7a780ecc-7a07-4ee6-a9b6-fda38267c466"
      },
      "source": [
        "thisislist=[\"apple\",\"banana\",\"grapes\",\"apple1\",\"banana1\",\"grapes1\"]\n",
        "thisistuple=[\"mango\",\"pineapple\",\"papaya\",\"mango\",\"pineapple1\",\"papaya1\"]\n",
        "thisislist.extend(thisistuple)\n",
        "print(thisislist)"
      ],
      "execution_count": null,
      "outputs": [
        {
          "output_type": "stream",
          "text": [
            "['apple', 'banana', 'grapes', 'apple1', 'banana1', 'grapes1', 'mango', 'pineapple', 'papaya', 'mango', 'pineapple1', 'papaya1']\n"
          ],
          "name": "stdout"
        }
      ]
    },
    {
      "cell_type": "code",
      "metadata": {
        "colab": {
          "base_uri": "https://localhost:8080/"
        },
        "id": "ZCsEHk5b7YIY",
        "outputId": "41787d59-50de-4bbc-e60c-b0af4ca34d89"
      },
      "source": [
        "thisislist=[\"apple\",\"banana\",\"grapes\",\"apple1\",\"banana1\",\"grapes1\"]\n",
        "thisislist.remove(\"banana\")\n",
        "print(thisislist)"
      ],
      "execution_count": null,
      "outputs": [
        {
          "output_type": "stream",
          "text": [
            "['apple', 'grapes', 'apple1', 'banana1', 'grapes1']\n"
          ],
          "name": "stdout"
        }
      ]
    },
    {
      "cell_type": "code",
      "metadata": {
        "colab": {
          "base_uri": "https://localhost:8080/"
        },
        "id": "ZOTufzad7jKq",
        "outputId": "6416d283-fd63-4346-8149-a1b5bccdec47"
      },
      "source": [
        "thisislist=[\"apple\",\"banana\",\"grapes\",\"apple1\",\"banana1\",\"grapes1\"]\n",
        "thisislist.remove(\"apple1\")\n",
        "print(thisislist)"
      ],
      "execution_count": null,
      "outputs": [
        {
          "output_type": "stream",
          "text": [
            "['apple', 'banana', 'grapes', 'banana1', 'grapes1']\n"
          ],
          "name": "stdout"
        }
      ]
    },
    {
      "cell_type": "code",
      "metadata": {
        "colab": {
          "base_uri": "https://localhost:8080/"
        },
        "id": "xFq64D6b7tDv",
        "outputId": "1ea7af5c-e00d-44a7-9e24-13e2924c7b01"
      },
      "source": [
        "thisislist=[\"apple\",\"banana\",\"grapes\",\"apple1\",\"banana1\",\"grapes1\"]\n",
        "thisislist.pop()\n",
        "print(thisislist)"
      ],
      "execution_count": null,
      "outputs": [
        {
          "output_type": "stream",
          "text": [
            "['apple', 'banana', 'grapes', 'apple1', 'banana1']\n"
          ],
          "name": "stdout"
        }
      ]
    },
    {
      "cell_type": "code",
      "metadata": {
        "colab": {
          "base_uri": "https://localhost:8080/"
        },
        "id": "2S3YlA_g74W7",
        "outputId": "48378ff7-e81c-4889-d8fa-5699e56b5550"
      },
      "source": [
        "thisislist=[\"apple\",\"banana\",\"grapes\",\"apple1\",\"banana1\",\"grapes1\"]\n",
        "thisislist.pop(0)\n",
        "print(thisislist)"
      ],
      "execution_count": null,
      "outputs": [
        {
          "output_type": "stream",
          "text": [
            "['banana', 'grapes', 'apple1', 'banana1', 'grapes1']\n"
          ],
          "name": "stdout"
        }
      ]
    },
    {
      "cell_type": "code",
      "metadata": {
        "colab": {
          "base_uri": "https://localhost:8080/"
        },
        "id": "9-Bd6jM78dF4",
        "outputId": "b7185dc5-c9dc-4565-82b3-7a99f37a22cb"
      },
      "source": [
        "thisislist=[\"apple\",\"banana\",\"grapes\",\"apple1\",\"banana1\",\"grapes1\"]\n",
        "thisislist"
      ],
      "execution_count": null,
      "outputs": [
        {
          "output_type": "execute_result",
          "data": {
            "text/plain": [
              "['apple', 'banana', 'grapes', 'apple1', 'banana1', 'grapes1']"
            ]
          },
          "metadata": {
            "tags": []
          },
          "execution_count": 55
        }
      ]
    },
    {
      "cell_type": "code",
      "metadata": {
        "id": "OmFCZogU8DeD"
      },
      "source": [
        "thisislist=[\"apple\",\"banana\",\"grapes\",\"apple1\",\"banana1\",\"grapes1\"]\n",
        "del thisislist"
      ],
      "execution_count": null,
      "outputs": []
    },
    {
      "cell_type": "code",
      "metadata": {
        "colab": {
          "base_uri": "https://localhost:8080/"
        },
        "id": "bsKH3MMA8iP8",
        "outputId": "ceea5055-af11-4fb8-f1b8-d2dc0ef3a012"
      },
      "source": [
        "thisislist=[\"apple\",\"banana\",\"grapes\",\"apple1\",\"banana1\",\"grapes1\"]\n",
        "thisislist.clear()\n",
        "print(thisislist)"
      ],
      "execution_count": null,
      "outputs": [
        {
          "output_type": "stream",
          "text": [
            "[]\n"
          ],
          "name": "stdout"
        }
      ]
    },
    {
      "cell_type": "code",
      "metadata": {
        "colab": {
          "base_uri": "https://localhost:8080/"
        },
        "id": "yo7CzNZg-g6F",
        "outputId": "07790660-6b5e-44ee-dd71-6a2950158ec3"
      },
      "source": [
        "thisislist=[\"apple\",\"banana\",\"grapes\",\"apple1\",\"banana1\",\"grapes1\"]\n",
        "for i in range (len(thisislist)):\n",
        " print(thisislist)"
      ],
      "execution_count": null,
      "outputs": [
        {
          "output_type": "stream",
          "text": [
            "['apple', 'banana', 'grapes', 'apple1', 'banana1', 'grapes1']\n",
            "['apple', 'banana', 'grapes', 'apple1', 'banana1', 'grapes1']\n",
            "['apple', 'banana', 'grapes', 'apple1', 'banana1', 'grapes1']\n",
            "['apple', 'banana', 'grapes', 'apple1', 'banana1', 'grapes1']\n",
            "['apple', 'banana', 'grapes', 'apple1', 'banana1', 'grapes1']\n",
            "['apple', 'banana', 'grapes', 'apple1', 'banana1', 'grapes1']\n"
          ],
          "name": "stdout"
        }
      ]
    },
    {
      "cell_type": "code",
      "metadata": {
        "colab": {
          "base_uri": "https://localhost:8080/"
        },
        "id": "hXDhqLWB-sWZ",
        "outputId": "87c0cee9-3545-4229-b6bf-b2ed20597af1"
      },
      "source": [
        "thisislist = [\"apple\",\"banana\",\"grapes\",\"apple1\",\"banana1\",\"grapes1\"]\n",
        "for x in thisislist:\n",
        " print(x)"
      ],
      "execution_count": null,
      "outputs": [
        {
          "output_type": "stream",
          "text": [
            "apple\n",
            "banana\n",
            "grapes\n",
            "apple1\n",
            "banana1\n",
            "grapes1\n"
          ],
          "name": "stdout"
        }
      ]
    },
    {
      "cell_type": "code",
      "metadata": {
        "id": "jau6dOn7_ngX"
      },
      "source": [
        "thisislist = [\"apple\",\"banana\",\"grapes\",\"apple1\",\"banana1\",\"grapes1\"]\n",
        "i=i+1\n",
        "while i< len(thisislist):\n",
        " print(thisislist)"
      ],
      "execution_count": null,
      "outputs": []
    },
    {
      "cell_type": "code",
      "metadata": {
        "colab": {
          "base_uri": "https://localhost:8080/"
        },
        "id": "xAlFYjRa_wa5",
        "outputId": "7307dae5-8643-4fff-a8fa-ecd7a2f0c3fe"
      },
      "source": [
        "thislist =[\"apple\",\"banana\",\"cherry\"]\n",
        "[print (x) for x in thislist]"
      ],
      "execution_count": null,
      "outputs": [
        {
          "output_type": "stream",
          "text": [
            "apple\n",
            "banana\n",
            "cherry\n"
          ],
          "name": "stdout"
        },
        {
          "output_type": "execute_result",
          "data": {
            "text/plain": [
              "[None, None, None]"
            ]
          },
          "metadata": {
            "tags": []
          },
          "execution_count": 61
        }
      ]
    },
    {
      "cell_type": "code",
      "metadata": {
        "colab": {
          "base_uri": "https://localhost:8080/"
        },
        "id": "XyQ5IiICClBI",
        "outputId": "e02553d4-fbb2-4687-b91f-512c7600eef6"
      },
      "source": [
        "fruits =  [\"Apple\",\"Banana\",\"Cherry\",\"kiwi\",\"mango\"]\n",
        "newlist = []\n",
        "\n",
        "for x in fruits:\n",
        "  if \"a\" in x:\n",
        "    newlist.append(x)\n",
        "print(newlist)"
      ],
      "execution_count": null,
      "outputs": [
        {
          "output_type": "stream",
          "text": [
            "['Banana', 'mango']\n"
          ],
          "name": "stdout"
        }
      ]
    },
    {
      "cell_type": "code",
      "metadata": {
        "colab": {
          "base_uri": "https://localhost:8080/"
        },
        "id": "ffWn71ei_-u1",
        "outputId": "73ab11d0-733d-4038-819c-3054756c1b0f"
      },
      "source": [
        "fruits =  [\"apple\",\"Banana\",\"Cherry\",\"kiwi\",\"mango\"]\n",
        "newlist = []\n",
        "\n",
        "for x in fruits:\n",
        "  if \"a\" in x:\n",
        "    newlist.append(x)\n",
        "print(newlist)"
      ],
      "execution_count": null,
      "outputs": [
        {
          "output_type": "stream",
          "text": [
            "['apple', 'Banana', 'mango']\n"
          ],
          "name": "stdout"
        }
      ]
    },
    {
      "cell_type": "code",
      "metadata": {
        "colab": {
          "base_uri": "https://localhost:8080/"
        },
        "id": "BWbCvK0xBbz7",
        "outputId": "969669fb-470b-41ba-8d71-d8ee85072b25"
      },
      "source": [
        "fruits =  [\"apple\",\"Banana\",\"Cherry\",\"kiwi\",\"mango\"]\n",
        "newlist = [x for x in fruits if \"a\" in x]\n",
        "print(newlist)"
      ],
      "execution_count": null,
      "outputs": [
        {
          "output_type": "stream",
          "text": [
            "['apple', 'Banana', 'mango']\n"
          ],
          "name": "stdout"
        }
      ]
    },
    {
      "cell_type": "code",
      "metadata": {
        "colab": {
          "base_uri": "https://localhost:8080/"
        },
        "id": "eQMRMRkn37cT",
        "outputId": "e873225c-2459-4a7e-8cab-16f6a588a3d0"
      },
      "source": [
        "fruits =  [\"apple\",\"Banana\",\"Cherry\",\"kiwi\",\"mango\"]\n",
        "fruits.sort()\n",
        "print(fruits)"
      ],
      "execution_count": null,
      "outputs": [
        {
          "output_type": "stream",
          "text": [
            "['Banana', 'Cherry', 'apple', 'kiwi', 'mango']\n"
          ],
          "name": "stdout"
        }
      ]
    },
    {
      "cell_type": "code",
      "metadata": {
        "colab": {
          "base_uri": "https://localhost:8080/"
        },
        "id": "ZSGEJn874Gwu",
        "outputId": "873df163-9a12-4dce-be83-63420c8384e4"
      },
      "source": [
        "thislist = [\"orange\",\"mango\",\"kiwi\",\"pineapple\",\"banana\"]\n",
        "thislist.sort()\n",
        "print(thislist)"
      ],
      "execution_count": null,
      "outputs": [
        {
          "output_type": "stream",
          "text": [
            "['banana', 'kiwi', 'mango', 'orange', 'pineapple']\n"
          ],
          "name": "stdout"
        }
      ]
    },
    {
      "cell_type": "code",
      "metadata": {
        "colab": {
          "base_uri": "https://localhost:8080/"
        },
        "id": "MUZaA1sG4ea-",
        "outputId": "5dd77ed1-cee3-4944-b367-fe3f80590d19"
      },
      "source": [
        "thislist = [100,40,50,23,22,83,78]\n",
        "thislist.sort()\n",
        "print(thislist)"
      ],
      "execution_count": null,
      "outputs": [
        {
          "output_type": "stream",
          "text": [
            "[22, 23, 40, 50, 78, 83, 100]\n"
          ],
          "name": "stdout"
        }
      ]
    },
    {
      "cell_type": "code",
      "metadata": {
        "colab": {
          "base_uri": "https://localhost:8080/"
        },
        "id": "9NduJaFA5FOI",
        "outputId": "18d7cfb9-453f-4932-8a69-860bb31eb3c1"
      },
      "source": [
        "thislist = [\"orange\",\"mango\",\"kiwi\",\"pineapple\",\"banana\"]\n",
        "thislist.sort(reverse=True)\n",
        "print(thislist)"
      ],
      "execution_count": null,
      "outputs": [
        {
          "output_type": "stream",
          "text": [
            "['pineapple', 'orange', 'mango', 'kiwi', 'banana']\n"
          ],
          "name": "stdout"
        }
      ]
    },
    {
      "cell_type": "code",
      "metadata": {
        "colab": {
          "base_uri": "https://localhost:8080/"
        },
        "id": "_V9rMtFB5Rw9",
        "outputId": "626242b7-e483-4154-bfd9-d1ae26969add"
      },
      "source": [
        "thislist = [100,40,50,23,22,83,78]\n",
        "thislist.sort(reverse=True)\n",
        "print(thislist)"
      ],
      "execution_count": null,
      "outputs": [
        {
          "output_type": "stream",
          "text": [
            "[100, 83, 78, 50, 40, 23, 22]\n"
          ],
          "name": "stdout"
        }
      ]
    },
    {
      "cell_type": "code",
      "metadata": {
        "colab": {
          "base_uri": "https://localhost:8080/"
        },
        "id": "5i6G5ei55WXb",
        "outputId": "8b3aec3d-7f07-432d-bbbb-f5643dd6a190"
      },
      "source": [
        "thislist = [\"orange\",\"mango\",\"kiwi\",\"pineapple\",\"banana\"]\n",
        "newlist=thislist.copy()\n",
        "print(newlist)"
      ],
      "execution_count": null,
      "outputs": [
        {
          "output_type": "stream",
          "text": [
            "['orange', 'mango', 'kiwi', 'pineapple', 'banana']\n"
          ],
          "name": "stdout"
        }
      ]
    },
    {
      "cell_type": "code",
      "metadata": {
        "colab": {
          "base_uri": "https://localhost:8080/"
        },
        "id": "iGE1hooG57PI",
        "outputId": "27cda663-8200-4963-9f7f-ad304eb1231a"
      },
      "source": [
        "thislist =  [100,40,50,23,22,83,78]\n",
        "newlist=thislist.copy()\n",
        "print(newlist)"
      ],
      "execution_count": null,
      "outputs": [
        {
          "output_type": "stream",
          "text": [
            "[100, 40, 50, 23, 22, 83, 78]\n"
          ],
          "name": "stdout"
        }
      ]
    },
    {
      "cell_type": "code",
      "metadata": {
        "colab": {
          "base_uri": "https://localhost:8080/"
        },
        "id": "mG4DY_Am6Egn",
        "outputId": "82f40276-d623-48d6-f43c-46e06a046df2"
      },
      "source": [
        "list1 = [\"orange\",\"mango\",\"kiwi\",\"pinepple\",\"banana\"]\n",
        "list2 =  [100,40,50,23,22,83,78]\n",
        "list3=list1+list2\n",
        "print(list3)"
      ],
      "execution_count": null,
      "outputs": [
        {
          "output_type": "stream",
          "text": [
            "['orange', 'mango', 'kiwi', 'pinepple', 'banana', 100, 40, 50, 23, 22, 83, 78]\n"
          ],
          "name": "stdout"
        }
      ]
    },
    {
      "cell_type": "code",
      "metadata": {
        "colab": {
          "base_uri": "https://localhost:8080/"
        },
        "id": "RhAgphLe6mZZ",
        "outputId": "c51af28b-f5bb-441b-f982-d1e154fddae3"
      },
      "source": [
        "list1 = [\"orange\",\"mango\",\"kiwi\",\"pinepple\",\"banana\"]\n",
        "list2 =  [100,40,50,23,22,83,78]\n",
        "for x in list2:\n",
        "  list1.append(x)\n",
        "print(list1)"
      ],
      "execution_count": null,
      "outputs": [
        {
          "output_type": "stream",
          "text": [
            "['orange', 'mango', 'kiwi', 'pinepple', 'banana', 100, 40, 50, 23, 22, 83, 78]\n"
          ],
          "name": "stdout"
        }
      ]
    },
    {
      "cell_type": "code",
      "metadata": {
        "colab": {
          "base_uri": "https://localhost:8080/"
        },
        "id": "f2kOS--W7BF8",
        "outputId": "72141abe-22bc-412e-fef1-40d1772f8402"
      },
      "source": [
        "list1 = [\"orange\",\"mango\",\"kiwi\",\"pinepple\",\"banana\"]\n",
        "list2 =  [100,40,50,23,22,83,78]\n",
        "list1.extend(list2)\n",
        "print(list1)\n"
      ],
      "execution_count": null,
      "outputs": [
        {
          "output_type": "stream",
          "text": [
            "['orange', 'mango', 'kiwi', 'pinepple', 'banana', 100, 40, 50, 23, 22, 83, 78]\n"
          ],
          "name": "stdout"
        }
      ]
    },
    {
      "cell_type": "code",
      "metadata": {
        "colab": {
          "base_uri": "https://localhost:8080/"
        },
        "id": "ecQkMJHA7OfL",
        "outputId": "0fd00f61-fd84-48b7-b11c-6175802422f0"
      },
      "source": [
        "list1= [\"cat\",\"dog\",\"rat\"]\n",
        "list2=[1,2,3,4]\n",
        "list3=list1+list2\n",
        "print(list3)"
      ],
      "execution_count": null,
      "outputs": [
        {
          "output_type": "stream",
          "text": [
            "['cat', 'dog', 'rat', 1, 2, 3, 4]\n"
          ],
          "name": "stdout"
        }
      ]
    },
    {
      "cell_type": "code",
      "metadata": {
        "colab": {
          "base_uri": "https://localhost:8080/"
        },
        "id": "MtzXy0d-7vAl",
        "outputId": "76a07385-139a-492e-da1a-c6421dbae2a4"
      },
      "source": [
        "list1= [\"cat\",\"dog\",\"rat\"]\n",
        "list2=[1,2,3,4]\n",
        "for x in list2:\n",
        "  list1.append(x)\n",
        "print(list1)"
      ],
      "execution_count": null,
      "outputs": [
        {
          "output_type": "stream",
          "text": [
            "['cat', 'dog', 'rat', 1, 2, 3, 4]\n"
          ],
          "name": "stdout"
        }
      ]
    },
    {
      "cell_type": "code",
      "metadata": {
        "colab": {
          "base_uri": "https://localhost:8080/"
        },
        "id": "eyuyszfS73sC",
        "outputId": "680f8a17-789f-417c-fa4d-18060327cf4d"
      },
      "source": [
        "list1= [\"cat\",\"dog\",\"rat\"]\n",
        "list2=[1,2,3,4]\n",
        "list1.extend(list2)\n",
        "print(list1)"
      ],
      "execution_count": null,
      "outputs": [
        {
          "output_type": "stream",
          "text": [
            "['cat', 'dog', 'rat', 1, 2, 3, 4]\n"
          ],
          "name": "stdout"
        }
      ]
    },
    {
      "cell_type": "code",
      "metadata": {
        "id": "vowgUKX_9YI6"
      },
      "source": [
        "list1 = [\"orange\",\"mango\",\"kiwi\",\"pinepple\",\"banana\"]"
      ],
      "execution_count": null,
      "outputs": []
    },
    {
      "cell_type": "code",
      "metadata": {
        "colab": {
          "base_uri": "https://localhost:8080/"
        },
        "id": "rCfsoiFG9k3k",
        "outputId": "3454aa52-eeb9-4be8-c4c7-558fd9c5d7f7"
      },
      "source": [
        "print(list1)"
      ],
      "execution_count": null,
      "outputs": [
        {
          "output_type": "stream",
          "text": [
            "['orange', 'mango', 'kiwi', 'pinepple', 'banana']\n"
          ],
          "name": "stdout"
        }
      ]
    },
    {
      "cell_type": "code",
      "metadata": {
        "colab": {
          "base_uri": "https://localhost:8080/"
        },
        "id": "uScDAjrb9vJj",
        "outputId": "764192d2-d62f-434e-96fe-2489460e2e08"
      },
      "source": [
        "thistuple=(\"apple\",\"banana\",\"cherry\")\n",
        "print(thistuple)"
      ],
      "execution_count": null,
      "outputs": [
        {
          "output_type": "stream",
          "text": [
            "('apple', 'banana', 'cherry')\n"
          ],
          "name": "stdout"
        }
      ]
    },
    {
      "cell_type": "code",
      "metadata": {
        "colab": {
          "base_uri": "https://localhost:8080/"
        },
        "id": "ODNDQRnJ-np5",
        "outputId": "2a988564-c49b-44b2-fbc3-5ba1fedf0576"
      },
      "source": [
        "thistuple=(\"apple\",\"banana\",\"cherry\",\"apple\",\"banana\",\"cherry\")\n",
        "print(thistuple)"
      ],
      "execution_count": null,
      "outputs": [
        {
          "output_type": "stream",
          "text": [
            "('apple', 'banana', 'cherry', 'apple', 'banana', 'cherry')\n"
          ],
          "name": "stdout"
        }
      ]
    },
    {
      "cell_type": "code",
      "metadata": {
        "colab": {
          "base_uri": "https://localhost:8080/"
        },
        "id": "bHuPXmzm-0X-",
        "outputId": "285d696a-efe5-4d90-95d5-45bf8bf70918"
      },
      "source": [
        "thistuple=(\"apple\",\"banana\",\"cherry\",\"apple\",\"banana\",\"cherry\")\n",
        "print(len(thistuple))"
      ],
      "execution_count": null,
      "outputs": [
        {
          "output_type": "stream",
          "text": [
            "6\n"
          ],
          "name": "stdout"
        }
      ]
    },
    {
      "cell_type": "code",
      "metadata": {
        "colab": {
          "base_uri": "https://localhost:8080/"
        },
        "id": "lzBTizI--8YD",
        "outputId": "e0ccc08a-40e5-4e51-a36d-fdbf1579a624"
      },
      "source": [
        "tuple1 =(\"orange\",\"mango\",\"kiwi\",\"pinepple\",\"banana\")\n",
        "tuple2 = (100,40,50,23,22,83,78)\n",
        "tuple3 = (True,False,True,False)\n",
        "print(tuple1)\n",
        "print(tuple2)\n",
        "print(tuple3)"
      ],
      "execution_count": null,
      "outputs": [
        {
          "output_type": "stream",
          "text": [
            "('orange', 'mango', 'kiwi', 'pinepple', 'banana')\n",
            "(100, 40, 50, 23, 22, 83, 78)\n",
            "(True, False, True, False)\n"
          ],
          "name": "stdout"
        }
      ]
    },
    {
      "cell_type": "code",
      "metadata": {
        "colab": {
          "base_uri": "https://localhost:8080/"
        },
        "id": "ysTd_-IM_vi3",
        "outputId": "6528fb44-fc20-421e-d286-12e2c590d7b5"
      },
      "source": [
        "tuple1 =(\"orange\",23,\"mango\",\"pinepple\",\"banana\",True,\"34\")\n",
        "print(tuple1)\n",
        "print(type(tuple1))"
      ],
      "execution_count": null,
      "outputs": [
        {
          "output_type": "stream",
          "text": [
            "('orange', 23, 'mango', 'pinepple', 'banana', True, '34')\n",
            "<class 'tuple'>\n"
          ],
          "name": "stdout"
        }
      ]
    },
    {
      "cell_type": "code",
      "metadata": {
        "colab": {
          "base_uri": "https://localhost:8080/"
        },
        "id": "qpgVH6RjAG8C",
        "outputId": "9c098408-13e3-4b09-fcc2-cfd4b03589e3"
      },
      "source": [
        "tuple1 =(\"orange\",23,\"mango\",\"pinepple\",\"banana\",True,\"34\")\n",
        "print(tuple1[1])"
      ],
      "execution_count": null,
      "outputs": [
        {
          "output_type": "stream",
          "text": [
            "23\n"
          ],
          "name": "stdout"
        }
      ]
    },
    {
      "cell_type": "code",
      "metadata": {
        "colab": {
          "base_uri": "https://localhost:8080/"
        },
        "id": "gC3u1mIMBEzq",
        "outputId": "be597775-eeec-4f8a-d669-be062c76c8c4"
      },
      "source": [
        "tuple1 =(\"orange\",23,\"mango\",\"pinepple\",\"banana\",True,\"34\")\n",
        "print(tuple1[4])"
      ],
      "execution_count": null,
      "outputs": [
        {
          "output_type": "stream",
          "text": [
            "banana\n"
          ],
          "name": "stdout"
        }
      ]
    },
    {
      "cell_type": "code",
      "metadata": {
        "colab": {
          "base_uri": "https://localhost:8080/"
        },
        "id": "wS_LNdgJBLX8",
        "outputId": "be628dad-0b53-48e3-ee71-5bd9b51a18e5"
      },
      "source": [
        "tuple1 =(\"orange\",23,\"mango\",\"pinepple\",\"banana\",True,\"34\")\n",
        "print(tuple1[5])"
      ],
      "execution_count": null,
      "outputs": [
        {
          "output_type": "stream",
          "text": [
            "True\n"
          ],
          "name": "stdout"
        }
      ]
    },
    {
      "cell_type": "code",
      "metadata": {
        "colab": {
          "base_uri": "https://localhost:8080/"
        },
        "id": "xZEbS2T3BNVt",
        "outputId": "64825f33-bb98-4381-f75e-3303f1a29960"
      },
      "source": [
        "tuple1 =(\"orange\",23,\"mango\",\"pinepple\",\"banana\",True,\"34\")\n",
        "print(tuple1[-1])"
      ],
      "execution_count": null,
      "outputs": [
        {
          "output_type": "stream",
          "text": [
            "34\n"
          ],
          "name": "stdout"
        }
      ]
    },
    {
      "cell_type": "code",
      "metadata": {
        "colab": {
          "base_uri": "https://localhost:8080/"
        },
        "id": "35-RZ93bBP3D",
        "outputId": "0f4c46f2-35bd-48b0-d03a-5806583385c8"
      },
      "source": [
        "tuple1 =(\"orange\",23,\"mango\",\"pinepple\",\"banana\",True,\"34\")\n",
        "print(tuple1[0:3])"
      ],
      "execution_count": null,
      "outputs": [
        {
          "output_type": "stream",
          "text": [
            "('orange', 23, 'mango')\n"
          ],
          "name": "stdout"
        }
      ]
    },
    {
      "cell_type": "code",
      "metadata": {
        "colab": {
          "base_uri": "https://localhost:8080/"
        },
        "id": "hnHiaBExBYLe",
        "outputId": "d0eb6d48-74d9-4b32-cbda-0418fe31ffbd"
      },
      "source": [
        "tuple1 =(\"orange\",23,\"mango\",\"pinepple\",\"banana\",True,\"34\")\n",
        "print(tuple1[2:-1])"
      ],
      "execution_count": null,
      "outputs": [
        {
          "output_type": "stream",
          "text": [
            "('mango', 'pinepple', 'banana', True)\n"
          ],
          "name": "stdout"
        }
      ]
    },
    {
      "cell_type": "code",
      "metadata": {
        "colab": {
          "base_uri": "https://localhost:8080/"
        },
        "id": "hwmFcv3QBkMA",
        "outputId": "80195879-8ab2-4d10-fccc-10e3331b3878"
      },
      "source": [
        "tuple1 =(\"orange\",23,\"mango\",\"pinepple\",\"banana\",True,\"34\")\n",
        "print(tuple1[-4:-1])"
      ],
      "execution_count": null,
      "outputs": [
        {
          "output_type": "stream",
          "text": [
            "('pinepple', 'banana', True)\n"
          ],
          "name": "stdout"
        }
      ]
    },
    {
      "cell_type": "code",
      "metadata": {
        "colab": {
          "base_uri": "https://localhost:8080/"
        },
        "id": "zITlDyVIBtUv",
        "outputId": "69577963-086b-41e4-caaa-fa93687c8a6e"
      },
      "source": [
        "x=(\"apple\",\"banana\",\"cherry\")\n",
        "y=list(x)\n",
        "y[1]=\"kiwi\"\n",
        "x=tuple(y)\n",
        "print(x)"
      ],
      "execution_count": null,
      "outputs": [
        {
          "output_type": "stream",
          "text": [
            "('apple', 'kiwi', 'cherry')\n"
          ],
          "name": "stdout"
        }
      ]
    },
    {
      "cell_type": "code",
      "metadata": {
        "colab": {
          "base_uri": "https://localhost:8080/"
        },
        "id": "oF6TtdRMCbZh",
        "outputId": "28be5f99-2094-4de4-def8-bd46ebe581d9"
      },
      "source": [
        "x=(\"apple\",\"banana\",\"cherry\")\n",
        "y=list(x)\n",
        "y.append(\"orange\")\n",
        "thistuple= tuple(y)\n",
        "print(thistuple)"
      ],
      "execution_count": null,
      "outputs": [
        {
          "output_type": "stream",
          "text": [
            "('apple', 'banana', 'cherry', 'orange')\n"
          ],
          "name": "stdout"
        }
      ]
    },
    {
      "cell_type": "code",
      "metadata": {
        "colab": {
          "base_uri": "https://localhost:8080/"
        },
        "id": "L-FJov9QDSOZ",
        "outputId": "78c13b2d-d3fb-4ea4-a537-2cd89c4d0f44"
      },
      "source": [
        "thistuple=(\"apple\",\"banana\",\"cherry\")\n",
        "y=list(thistuple)\n",
        "y.remove(\"banana\")\n",
        "thistuple= tuple(y)\n",
        "print(thistuple)"
      ],
      "execution_count": null,
      "outputs": [
        {
          "output_type": "stream",
          "text": [
            "('apple', 'cherry')\n"
          ],
          "name": "stdout"
        }
      ]
    },
    {
      "cell_type": "code",
      "metadata": {
        "colab": {
          "base_uri": "https://localhost:8080/"
        },
        "id": "JNOCNKiJDzOd",
        "outputId": "0f94b70a-48dc-4e56-84de-6cd542f88c3c"
      },
      "source": [
        "fruits=(\"apple\",\"banana\",\"cherry\")\n",
        "(green,yellow,red)=fruits\n",
        "print(green)\n",
        "print(yellow)\n",
        "print(red)"
      ],
      "execution_count": null,
      "outputs": [
        {
          "output_type": "stream",
          "text": [
            "apple\n",
            "banana\n",
            "cherry\n"
          ],
          "name": "stdout"
        }
      ]
    },
    {
      "cell_type": "code",
      "metadata": {
        "colab": {
          "base_uri": "https://localhost:8080/"
        },
        "id": "RyiuMFdVEw4m",
        "outputId": "2dedf574-3725-431e-bdae-1f1b540105db"
      },
      "source": [
        "fruits=(\"apple\",\"Banana\",\"Cherry\",\"kiwi\",\"mango\")\n",
        "(green,yellow,*red)=fruits\n",
        "print(green)\n",
        "print(yellow)\n",
        "print(red)"
      ],
      "execution_count": null,
      "outputs": [
        {
          "output_type": "stream",
          "text": [
            "apple\n",
            "Banana\n",
            "['Cherry', 'kiwi', 'mango']\n"
          ],
          "name": "stdout"
        }
      ]
    },
    {
      "cell_type": "code",
      "metadata": {
        "colab": {
          "base_uri": "https://localhost:8080/"
        },
        "id": "wVGMqxh0GD_m",
        "outputId": "5717f639-dc81-482e-85ce-eb9c89c38939"
      },
      "source": [
        "fruits=(\"apple\",\"Banana\",\"Cherry\",\"kiwi\",\"mango\")\n",
        "(green,*yellow,red)=fruits\n",
        "print(green)\n",
        "print(yellow)\n",
        "print(red)"
      ],
      "execution_count": null,
      "outputs": [
        {
          "output_type": "stream",
          "text": [
            "apple\n",
            "['Banana', 'Cherry', 'kiwi']\n",
            "mango\n"
          ],
          "name": "stdout"
        }
      ]
    },
    {
      "cell_type": "code",
      "metadata": {
        "colab": {
          "base_uri": "https://localhost:8080/"
        },
        "id": "YHRrw9YGGpEc",
        "outputId": "2c22641d-3946-4b9f-c58d-0a07e8978ca3"
      },
      "source": [
        "fruits=(\"apple\",\"Banana\",\"Cherry\",\"kiwi\",\"mango\")\n",
        "for x in fruits:\n",
        "  print(x)"
      ],
      "execution_count": null,
      "outputs": [
        {
          "output_type": "stream",
          "text": [
            "apple\n",
            "Banana\n",
            "Cherry\n",
            "kiwi\n",
            "mango\n"
          ],
          "name": "stdout"
        }
      ]
    },
    {
      "cell_type": "code",
      "metadata": {
        "colab": {
          "base_uri": "https://localhost:8080/"
        },
        "id": "vXp8esnUGy4s",
        "outputId": "acfabd62-7fdb-43af-9a70-b716231157c2"
      },
      "source": [
        "fruits=(\"apple\",\"Banana\",\"Cherry\",\"kiwi\",\"mango\")\n",
        "for i in range(len(fruits)):\n",
        "  print(fruits[i])"
      ],
      "execution_count": null,
      "outputs": [
        {
          "output_type": "stream",
          "text": [
            "apple\n",
            "Banana\n",
            "Cherry\n",
            "kiwi\n",
            "mango\n"
          ],
          "name": "stdout"
        }
      ]
    },
    {
      "cell_type": "code",
      "metadata": {
        "id": "EIB6P2WPa7r_"
      },
      "source": [
        ""
      ],
      "execution_count": null,
      "outputs": []
    }
  ]
}