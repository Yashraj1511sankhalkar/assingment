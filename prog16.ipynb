{
  "nbformat": 4,
  "nbformat_minor": 0,
  "metadata": {
    "colab": {
      "name": "prog16.ipynb",
      "provenance": [],
      "collapsed_sections": []
    },
    "kernelspec": {
      "name": "python3",
      "display_name": "Python 3"
    }
  },
  "cells": [
    {
      "cell_type": "code",
      "metadata": {
        "colab": {
          "base_uri": "https://localhost:8080/"
        },
        "id": "xVwrtdCxncoO",
        "outputId": "d24e8dd4-b491-41a7-df6a-f4c481e4788f"
      },
      "source": [
        "pip install scipy"
      ],
      "execution_count": null,
      "outputs": [
        {
          "output_type": "stream",
          "text": [
            "Requirement already satisfied: scipy in /usr/local/lib/python3.6/dist-packages (1.4.1)\n",
            "Requirement already satisfied: numpy>=1.13.3 in /usr/local/lib/python3.6/dist-packages (from scipy) (1.18.5)\n"
          ],
          "name": "stdout"
        }
      ]
    },
    {
      "cell_type": "code",
      "metadata": {
        "colab": {
          "base_uri": "https://localhost:8080/"
        },
        "id": "Q4N9b-XxngMI",
        "outputId": "1e96e70f-374b-4d7e-8790-e060a4f4c624"
      },
      "source": [
        "import scipy\r\n",
        "print(scipy.__version__)"
      ],
      "execution_count": null,
      "outputs": [
        {
          "output_type": "stream",
          "text": [
            "1.4.1\n"
          ],
          "name": "stdout"
        }
      ]
    },
    {
      "cell_type": "markdown",
      "metadata": {
        "id": "W-3yUPE6nkAM"
      },
      "source": [
        "\r\n",
        "## Scientific Computing using scipy"
      ]
    },
    {
      "cell_type": "code",
      "metadata": {
        "colab": {
          "base_uri": "https://localhost:8080/"
        },
        "id": "dXj3bWe00Ag8",
        "outputId": "93445f7f-665a-43a4-d7ca-4fc48d50c8fe"
      },
      "source": [
        "from scipy import constants\r\n",
        "print(constants.pi)"
      ],
      "execution_count": null,
      "outputs": [
        {
          "output_type": "stream",
          "text": [
            "3.141592653589793\n"
          ],
          "name": "stdout"
        }
      ]
    },
    {
      "cell_type": "code",
      "metadata": {
        "colab": {
          "base_uri": "https://localhost:8080/"
        },
        "id": "Ail8AEYS0Fgn",
        "outputId": "8dfe14a3-43a9-49f9-eb58-a439a2071229"
      },
      "source": [
        "from scipy import constants \r\n",
        "print(dir(constants))"
      ],
      "execution_count": null,
      "outputs": [
        {
          "output_type": "stream",
          "text": [
            "['Avogadro', 'Boltzmann', 'Btu', 'Btu_IT', 'Btu_th', 'ConstantWarning', 'G', 'Julian_year', 'N_A', 'Planck', 'R', 'Rydberg', 'Stefan_Boltzmann', 'Wien', '__all__', '__builtins__', '__cached__', '__doc__', '__file__', '__loader__', '__name__', '__package__', '__path__', '__spec__', '_obsolete_constants', 'absolute_import', 'acre', 'alpha', 'angstrom', 'arcmin', 'arcminute', 'arcsec', 'arcsecond', 'astronomical_unit', 'atm', 'atmosphere', 'atomic_mass', 'atto', 'au', 'bar', 'barrel', 'bbl', 'blob', 'c', 'calorie', 'calorie_IT', 'calorie_th', 'carat', 'centi', 'codata', 'constants', 'convert_temperature', 'day', 'deci', 'degree', 'degree_Fahrenheit', 'deka', 'division', 'dyn', 'dyne', 'e', 'eV', 'electron_mass', 'electron_volt', 'elementary_charge', 'epsilon_0', 'erg', 'exa', 'exbi', 'femto', 'fermi', 'find', 'fine_structure', 'fluid_ounce', 'fluid_ounce_US', 'fluid_ounce_imp', 'foot', 'g', 'gallon', 'gallon_US', 'gallon_imp', 'gas_constant', 'gibi', 'giga', 'golden', 'golden_ratio', 'grain', 'gram', 'gravitational_constant', 'h', 'hbar', 'hectare', 'hecto', 'horsepower', 'hour', 'hp', 'inch', 'k', 'kgf', 'kibi', 'kilo', 'kilogram_force', 'kmh', 'knot', 'lambda2nu', 'lb', 'lbf', 'light_year', 'liter', 'litre', 'long_ton', 'm_e', 'm_n', 'm_p', 'm_u', 'mach', 'mebi', 'mega', 'metric_ton', 'micro', 'micron', 'mil', 'mile', 'milli', 'minute', 'mmHg', 'mph', 'mu_0', 'nano', 'nautical_mile', 'neutron_mass', 'nu2lambda', 'ounce', 'oz', 'parsec', 'pebi', 'peta', 'physical_constants', 'pi', 'pico', 'point', 'pound', 'pound_force', 'precision', 'print_function', 'proton_mass', 'psi', 'pt', 'short_ton', 'sigma', 'slinch', 'slug', 'speed_of_light', 'speed_of_sound', 'stone', 'survey_foot', 'survey_mile', 'tebi', 'tera', 'test', 'ton_TNT', 'torr', 'troy_ounce', 'troy_pound', 'u', 'unit', 'value', 'week', 'yard', 'year', 'yobi', 'yotta', 'zebi', 'zepto', 'zero_Celsius', 'zetta']\n"
          ],
          "name": "stdout"
        }
      ]
    },
    {
      "cell_type": "code",
      "metadata": {
        "colab": {
          "base_uri": "https://localhost:8080/"
        },
        "id": "kOSPgLRR0OYH",
        "outputId": "04e243e5-9f0c-41b3-b472-728296df7bb0"
      },
      "source": [
        "from scipy import constants \r\n",
        "print(constants.yotta)\r\n",
        "print(constants.zetta)\r\n",
        "print(constants.exa)\r\n",
        "print(constants.tera)\r\n",
        "print(constants.mega)\r\n",
        "print(constants.kilo)\r\n",
        "print(constants.pico)"
      ],
      "execution_count": null,
      "outputs": [
        {
          "output_type": "stream",
          "text": [
            "1e+24\n",
            "1e+21\n",
            "1e+18\n",
            "1000000000000.0\n",
            "1000000.0\n",
            "1000.0\n",
            "1e-12\n"
          ],
          "name": "stdout"
        }
      ]
    },
    {
      "cell_type": "code",
      "metadata": {
        "colab": {
          "base_uri": "https://localhost:8080/"
        },
        "id": "XdU6D75W0rfI",
        "outputId": "ae028575-7679-43ff-9c7e-28777f24bfd8"
      },
      "source": [
        "from scipy import constants \r\n",
        "print(constants.gram)\r\n",
        "print(constants.pound)\r\n",
        "print(constants.carat)\r\n",
        "print(constants.u)\r\n",
        "print(constants.atomic_mass)\r\n",
        "print(constants.astronomical_unit)"
      ],
      "execution_count": null,
      "outputs": [
        {
          "output_type": "stream",
          "text": [
            "0.001\n",
            "0.45359236999999997\n",
            "0.0002\n",
            "1.6605390666e-27\n",
            "1.6605390666e-27\n",
            "149597870700.0\n"
          ],
          "name": "stdout"
        }
      ]
    },
    {
      "cell_type": "code",
      "metadata": {
        "colab": {
          "base_uri": "https://localhost:8080/"
        },
        "id": "V2CwNeFR09Xx",
        "outputId": "ed8b8b79-8a17-4bee-bf5d-d8ecfd337950"
      },
      "source": [
        "from scipy import constants \r\n",
        "print(constants.minute)\r\n",
        "print(constants.hour)\r\n",
        "print(constants.day)\r\n",
        "print(constants.week)\r\n",
        "print(constants.year)\r\n",
        "print(constants.Julian_year)"
      ],
      "execution_count": null,
      "outputs": [
        {
          "output_type": "stream",
          "text": [
            "60.0\n",
            "3600.0\n",
            "86400.0\n",
            "604800.0\n",
            "31536000.0\n",
            "31557600.0\n"
          ],
          "name": "stdout"
        }
      ]
    },
    {
      "cell_type": "code",
      "metadata": {
        "colab": {
          "base_uri": "https://localhost:8080/"
        },
        "id": "ybKAztLp1uSE",
        "outputId": "f06f66fc-8cf0-4d52-d51e-a455c1c06211"
      },
      "source": [
        "from scipy import constants \r\n",
        "print(constants.inch)\r\n",
        "print(constants.foot)\r\n",
        "print(constants.mile)\r\n",
        "print(constants.pt)\r\n",
        "print(constants.point)\r\n",
        "print(constants.nautical_mile)"
      ],
      "execution_count": null,
      "outputs": [
        {
          "output_type": "stream",
          "text": [
            "0.0254\n",
            "0.30479999999999996\n",
            "1609.3439999999998\n",
            "0.00035277777777777776\n",
            "0.00035277777777777776\n",
            "1852.0\n"
          ],
          "name": "stdout"
        }
      ]
    },
    {
      "cell_type": "code",
      "metadata": {
        "colab": {
          "base_uri": "https://localhost:8080/"
        },
        "id": "S1tKfU3T2CQq",
        "outputId": "6a5d54df-239d-4054-f717-d06b76ab7c9e"
      },
      "source": [
        "from scipy import constants \r\n",
        "print(constants.zero_Celsius)\r\n",
        "print(constants.degree_Fahrenheit)"
      ],
      "execution_count": null,
      "outputs": [
        {
          "output_type": "stream",
          "text": [
            "273.15\n",
            "0.5555555555555556\n"
          ],
          "name": "stdout"
        }
      ]
    },
    {
      "cell_type": "code",
      "metadata": {
        "colab": {
          "base_uri": "https://localhost:8080/"
        },
        "id": "_JjCibxs2XoU",
        "outputId": "2939c7c0-0012-4ff9-c97c-9b25dc1bccf3"
      },
      "source": [
        "from scipy import constants \r\n",
        "print(constants.hp)\r\n",
        "print(constants.horsepower)"
      ],
      "execution_count": null,
      "outputs": [
        {
          "output_type": "stream",
          "text": [
            "745.6998715822701\n",
            "745.6998715822701\n"
          ],
          "name": "stdout"
        }
      ]
    },
    {
      "cell_type": "code",
      "metadata": {
        "colab": {
          "base_uri": "https://localhost:8080/"
        },
        "id": "C8G1mV-J3FyR",
        "outputId": "dae5eeae-b1d5-4e7f-9f4b-e396fd98ef1a"
      },
      "source": [
        "from scipy.optimize import root\r\n",
        "from math import cos\r\n",
        "\r\n",
        "def eqn(x):\r\n",
        "  return x+cos(x) \r\n",
        "\r\n",
        "myroot = root(eqn,0)\r\n",
        "print(myroot.x)"
      ],
      "execution_count": null,
      "outputs": [
        {
          "output_type": "stream",
          "text": [
            "[-0.73908513]\n"
          ],
          "name": "stdout"
        }
      ]
    },
    {
      "cell_type": "code",
      "metadata": {
        "colab": {
          "base_uri": "https://localhost:8080/"
        },
        "id": "84PnuzPZ3jjk",
        "outputId": "7840a934-caeb-4bff-dcdd-07632e85ed4a"
      },
      "source": [
        "from scipy.optimize import root\r\n",
        "from math import cos\r\n",
        "\r\n",
        "def eqn(x):\r\n",
        "  return x+cos(x) \r\n",
        "\r\n",
        "myroot = root(eqn,0)\r\n",
        "print(myroot)"
      ],
      "execution_count": null,
      "outputs": [
        {
          "output_type": "stream",
          "text": [
            "    fjac: array([[-1.]])\n",
            "     fun: array([0.])\n",
            " message: 'The solution converged.'\n",
            "    nfev: 9\n",
            "     qtf: array([-2.66786593e-13])\n",
            "       r: array([-1.67361202])\n",
            "  status: 1\n",
            " success: True\n",
            "       x: array([-0.73908513])\n"
          ],
          "name": "stdout"
        }
      ]
    },
    {
      "cell_type": "code",
      "metadata": {
        "colab": {
          "base_uri": "https://localhost:8080/"
        },
        "id": "KzC109vU41hf",
        "outputId": "1fe1d6b6-2bfb-4997-cda8-b5dccb352036"
      },
      "source": [
        "from scipy.optimize import minimize\r\n",
        "\r\n",
        "def eqn(x):\r\n",
        "  return x**2 +x + 2\r\n",
        "\r\n",
        "mymin = minimize(eqn,0,method=\"BFGS\")\r\n",
        "print(mymin)"
      ],
      "execution_count": null,
      "outputs": [
        {
          "output_type": "stream",
          "text": [
            "      fun: 1.75\n",
            " hess_inv: array([[0.50000001]])\n",
            "      jac: array([0.])\n",
            "  message: 'Optimization terminated successfully.'\n",
            "     nfev: 12\n",
            "      nit: 2\n",
            "     njev: 4\n",
            "   status: 0\n",
            "  success: True\n",
            "        x: array([-0.50000001])\n"
          ],
          "name": "stdout"
        }
      ]
    },
    {
      "cell_type": "code",
      "metadata": {
        "id": "3-Hsg7t25T_D",
        "colab": {
          "base_uri": "https://localhost:8080/"
        },
        "outputId": "ea1dd122-0081-43f2-c37c-8abbb0568e57"
      },
      "source": [
        "from scipy.optimize import minimize\r\n",
        "from math import cos\r\n",
        "\r\n",
        "def eqn(x):\r\n",
        "    return x**2 + x+2\r\n",
        "    \r\n",
        "mymin = minimize(eqn,0,method = 'BFGS')\r\n",
        "print(mymin)\r\n"
      ],
      "execution_count": null,
      "outputs": [
        {
          "output_type": "stream",
          "text": [
            "      fun: 1.75\n",
            " hess_inv: array([[0.50000001]])\n",
            "      jac: array([0.])\n",
            "  message: 'Optimization terminated successfully.'\n",
            "     nfev: 12\n",
            "      nit: 2\n",
            "     njev: 4\n",
            "   status: 0\n",
            "  success: True\n",
            "        x: array([-0.50000001])\n"
          ],
          "name": "stdout"
        }
      ]
    },
    {
      "cell_type": "code",
      "metadata": {
        "id": "a8c9g0REoQe1"
      },
      "source": [
        ""
      ],
      "execution_count": null,
      "outputs": []
    }
  ]
}