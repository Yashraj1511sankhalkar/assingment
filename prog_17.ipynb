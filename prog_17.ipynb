{
  "nbformat": 4,
  "nbformat_minor": 0,
  "metadata": {
    "colab": {
      "name": "prog 17.ipynb",
      "provenance": [],
      "collapsed_sections": []
    },
    "kernelspec": {
      "name": "python3",
      "display_name": "Python 3"
    }
  },
  "cells": [
    {
      "cell_type": "markdown",
      "metadata": {
        "id": "M8lrKyO71sFQ"
      },
      "source": [
        "concatenation,merge and joining data frames in pandas"
      ]
    },
    {
      "cell_type": "code",
      "metadata": {
        "colab": {
          "base_uri": "https://localhost:8080/"
        },
        "id": "nS8R5Pi418PU",
        "outputId": "aa3bceb3-5903-4623-dec4-338e68ad1957"
      },
      "source": [
        "import pandas as pd\r\n",
        "df1 = pd.DataFrame({'Item':['A','B','C','D'],\r\n",
        "                    'Value': [1,2,3,4]})\r\n",
        "df2 = pd.DataFrame({'Item':['E','F','G','H'],\r\n",
        "                    'Value': [5,6,7,8]})\r\n",
        "print(df1)\r\n",
        "print(df2)"
      ],
      "execution_count": 2,
      "outputs": [
        {
          "output_type": "stream",
          "text": [
            "  Item  Value\n",
            "0    A      1\n",
            "1    B      2\n",
            "2    C      3\n",
            "3    D      4\n",
            "  Item  Value\n",
            "0    E      5\n",
            "1    F      6\n",
            "2    G      7\n",
            "3    H      8\n"
          ],
          "name": "stdout"
        }
      ]
    },
    {
      "cell_type": "code",
      "metadata": {
        "colab": {
          "base_uri": "https://localhost:8080/",
          "height": 173
        },
        "id": "xAtTzAVg2E_7",
        "outputId": "133427b2-a2fa-493a-cf17-ab2520e50833"
      },
      "source": [
        "df1"
      ],
      "execution_count": 3,
      "outputs": [
        {
          "output_type": "execute_result",
          "data": {
            "text/html": [
              "<div>\n",
              "<style scoped>\n",
              "    .dataframe tbody tr th:only-of-type {\n",
              "        vertical-align: middle;\n",
              "    }\n",
              "\n",
              "    .dataframe tbody tr th {\n",
              "        vertical-align: top;\n",
              "    }\n",
              "\n",
              "    .dataframe thead th {\n",
              "        text-align: right;\n",
              "    }\n",
              "</style>\n",
              "<table border=\"1\" class=\"dataframe\">\n",
              "  <thead>\n",
              "    <tr style=\"text-align: right;\">\n",
              "      <th></th>\n",
              "      <th>Item</th>\n",
              "      <th>Value</th>\n",
              "    </tr>\n",
              "  </thead>\n",
              "  <tbody>\n",
              "    <tr>\n",
              "      <th>0</th>\n",
              "      <td>A</td>\n",
              "      <td>1</td>\n",
              "    </tr>\n",
              "    <tr>\n",
              "      <th>1</th>\n",
              "      <td>B</td>\n",
              "      <td>2</td>\n",
              "    </tr>\n",
              "    <tr>\n",
              "      <th>2</th>\n",
              "      <td>C</td>\n",
              "      <td>3</td>\n",
              "    </tr>\n",
              "    <tr>\n",
              "      <th>3</th>\n",
              "      <td>D</td>\n",
              "      <td>4</td>\n",
              "    </tr>\n",
              "  </tbody>\n",
              "</table>\n",
              "</div>"
            ],
            "text/plain": [
              "  Item  Value\n",
              "0    A      1\n",
              "1    B      2\n",
              "2    C      3\n",
              "3    D      4"
            ]
          },
          "metadata": {
            "tags": []
          },
          "execution_count": 3
        }
      ]
    },
    {
      "cell_type": "code",
      "metadata": {
        "colab": {
          "base_uri": "https://localhost:8080/",
          "height": 173
        },
        "id": "0Pmih5Rp2QPL",
        "outputId": "d08fe8c1-af7c-464b-ae5f-9ad2eca8f875"
      },
      "source": [
        "df2"
      ],
      "execution_count": 4,
      "outputs": [
        {
          "output_type": "execute_result",
          "data": {
            "text/html": [
              "<div>\n",
              "<style scoped>\n",
              "    .dataframe tbody tr th:only-of-type {\n",
              "        vertical-align: middle;\n",
              "    }\n",
              "\n",
              "    .dataframe tbody tr th {\n",
              "        vertical-align: top;\n",
              "    }\n",
              "\n",
              "    .dataframe thead th {\n",
              "        text-align: right;\n",
              "    }\n",
              "</style>\n",
              "<table border=\"1\" class=\"dataframe\">\n",
              "  <thead>\n",
              "    <tr style=\"text-align: right;\">\n",
              "      <th></th>\n",
              "      <th>Item</th>\n",
              "      <th>Value</th>\n",
              "    </tr>\n",
              "  </thead>\n",
              "  <tbody>\n",
              "    <tr>\n",
              "      <th>0</th>\n",
              "      <td>E</td>\n",
              "      <td>5</td>\n",
              "    </tr>\n",
              "    <tr>\n",
              "      <th>1</th>\n",
              "      <td>F</td>\n",
              "      <td>6</td>\n",
              "    </tr>\n",
              "    <tr>\n",
              "      <th>2</th>\n",
              "      <td>G</td>\n",
              "      <td>7</td>\n",
              "    </tr>\n",
              "    <tr>\n",
              "      <th>3</th>\n",
              "      <td>H</td>\n",
              "      <td>8</td>\n",
              "    </tr>\n",
              "  </tbody>\n",
              "</table>\n",
              "</div>"
            ],
            "text/plain": [
              "  Item  Value\n",
              "0    E      5\n",
              "1    F      6\n",
              "2    G      7\n",
              "3    H      8"
            ]
          },
          "metadata": {
            "tags": []
          },
          "execution_count": 4
        }
      ]
    },
    {
      "cell_type": "code",
      "metadata": {
        "colab": {
          "base_uri": "https://localhost:8080/",
          "height": 297
        },
        "id": "7m9PqJcneWcm",
        "outputId": "368c658a-128d-4fc4-8073-0aa555eeeef0"
      },
      "source": [
        "pd.concat([df1,df2])"
      ],
      "execution_count": 5,
      "outputs": [
        {
          "output_type": "execute_result",
          "data": {
            "text/html": [
              "<div>\n",
              "<style scoped>\n",
              "    .dataframe tbody tr th:only-of-type {\n",
              "        vertical-align: middle;\n",
              "    }\n",
              "\n",
              "    .dataframe tbody tr th {\n",
              "        vertical-align: top;\n",
              "    }\n",
              "\n",
              "    .dataframe thead th {\n",
              "        text-align: right;\n",
              "    }\n",
              "</style>\n",
              "<table border=\"1\" class=\"dataframe\">\n",
              "  <thead>\n",
              "    <tr style=\"text-align: right;\">\n",
              "      <th></th>\n",
              "      <th>Item</th>\n",
              "      <th>Value</th>\n",
              "    </tr>\n",
              "  </thead>\n",
              "  <tbody>\n",
              "    <tr>\n",
              "      <th>0</th>\n",
              "      <td>A</td>\n",
              "      <td>1</td>\n",
              "    </tr>\n",
              "    <tr>\n",
              "      <th>1</th>\n",
              "      <td>B</td>\n",
              "      <td>2</td>\n",
              "    </tr>\n",
              "    <tr>\n",
              "      <th>2</th>\n",
              "      <td>C</td>\n",
              "      <td>3</td>\n",
              "    </tr>\n",
              "    <tr>\n",
              "      <th>3</th>\n",
              "      <td>D</td>\n",
              "      <td>4</td>\n",
              "    </tr>\n",
              "    <tr>\n",
              "      <th>0</th>\n",
              "      <td>E</td>\n",
              "      <td>5</td>\n",
              "    </tr>\n",
              "    <tr>\n",
              "      <th>1</th>\n",
              "      <td>F</td>\n",
              "      <td>6</td>\n",
              "    </tr>\n",
              "    <tr>\n",
              "      <th>2</th>\n",
              "      <td>G</td>\n",
              "      <td>7</td>\n",
              "    </tr>\n",
              "    <tr>\n",
              "      <th>3</th>\n",
              "      <td>H</td>\n",
              "      <td>8</td>\n",
              "    </tr>\n",
              "  </tbody>\n",
              "</table>\n",
              "</div>"
            ],
            "text/plain": [
              "  Item  Value\n",
              "0    A      1\n",
              "1    B      2\n",
              "2    C      3\n",
              "3    D      4\n",
              "0    E      5\n",
              "1    F      6\n",
              "2    G      7\n",
              "3    H      8"
            ]
          },
          "metadata": {
            "tags": []
          },
          "execution_count": 5
        }
      ]
    },
    {
      "cell_type": "code",
      "metadata": {
        "colab": {
          "base_uri": "https://localhost:8080/"
        },
        "id": "eTTNIhf92cZ9",
        "outputId": "0ea90458-fc6a-4c12-c724-505524116329"
      },
      "source": [
        "df1 = pd.DataFrame({'Item':['A','B','C','D'],\r\n",
        "                    'Value': [1,2,3,4]})\r\n",
        "df2 = pd.DataFrame({'Item':['E','F','G','H'],\r\n",
        "                    'value': [5,6,7,8]})\r\n",
        "print(df1)\r\n",
        "print(df2)"
      ],
      "execution_count": 6,
      "outputs": [
        {
          "output_type": "stream",
          "text": [
            "  Item  Value\n",
            "0    A      1\n",
            "1    B      2\n",
            "2    C      3\n",
            "3    D      4\n",
            "  Item  value\n",
            "0    E      5\n",
            "1    F      6\n",
            "2    G      7\n",
            "3    H      8\n"
          ],
          "name": "stdout"
        }
      ]
    },
    {
      "cell_type": "code",
      "metadata": {
        "colab": {
          "base_uri": "https://localhost:8080/",
          "height": 297
        },
        "id": "YknDaWo72URo",
        "outputId": "f039e287-465e-40fc-8ecd-3e68c7689a95"
      },
      "source": [
        "pd.concat([df1,df2])"
      ],
      "execution_count": 7,
      "outputs": [
        {
          "output_type": "execute_result",
          "data": {
            "text/html": [
              "<div>\n",
              "<style scoped>\n",
              "    .dataframe tbody tr th:only-of-type {\n",
              "        vertical-align: middle;\n",
              "    }\n",
              "\n",
              "    .dataframe tbody tr th {\n",
              "        vertical-align: top;\n",
              "    }\n",
              "\n",
              "    .dataframe thead th {\n",
              "        text-align: right;\n",
              "    }\n",
              "</style>\n",
              "<table border=\"1\" class=\"dataframe\">\n",
              "  <thead>\n",
              "    <tr style=\"text-align: right;\">\n",
              "      <th></th>\n",
              "      <th>Item</th>\n",
              "      <th>Value</th>\n",
              "      <th>value</th>\n",
              "    </tr>\n",
              "  </thead>\n",
              "  <tbody>\n",
              "    <tr>\n",
              "      <th>0</th>\n",
              "      <td>A</td>\n",
              "      <td>1.0</td>\n",
              "      <td>NaN</td>\n",
              "    </tr>\n",
              "    <tr>\n",
              "      <th>1</th>\n",
              "      <td>B</td>\n",
              "      <td>2.0</td>\n",
              "      <td>NaN</td>\n",
              "    </tr>\n",
              "    <tr>\n",
              "      <th>2</th>\n",
              "      <td>C</td>\n",
              "      <td>3.0</td>\n",
              "      <td>NaN</td>\n",
              "    </tr>\n",
              "    <tr>\n",
              "      <th>3</th>\n",
              "      <td>D</td>\n",
              "      <td>4.0</td>\n",
              "      <td>NaN</td>\n",
              "    </tr>\n",
              "    <tr>\n",
              "      <th>0</th>\n",
              "      <td>E</td>\n",
              "      <td>NaN</td>\n",
              "      <td>5.0</td>\n",
              "    </tr>\n",
              "    <tr>\n",
              "      <th>1</th>\n",
              "      <td>F</td>\n",
              "      <td>NaN</td>\n",
              "      <td>6.0</td>\n",
              "    </tr>\n",
              "    <tr>\n",
              "      <th>2</th>\n",
              "      <td>G</td>\n",
              "      <td>NaN</td>\n",
              "      <td>7.0</td>\n",
              "    </tr>\n",
              "    <tr>\n",
              "      <th>3</th>\n",
              "      <td>H</td>\n",
              "      <td>NaN</td>\n",
              "      <td>8.0</td>\n",
              "    </tr>\n",
              "  </tbody>\n",
              "</table>\n",
              "</div>"
            ],
            "text/plain": [
              "  Item  Value  value\n",
              "0    A    1.0    NaN\n",
              "1    B    2.0    NaN\n",
              "2    C    3.0    NaN\n",
              "3    D    4.0    NaN\n",
              "0    E    NaN    5.0\n",
              "1    F    NaN    6.0\n",
              "2    G    NaN    7.0\n",
              "3    H    NaN    8.0"
            ]
          },
          "metadata": {
            "tags": []
          },
          "execution_count": 7
        }
      ]
    },
    {
      "cell_type": "code",
      "metadata": {
        "colab": {
          "base_uri": "https://localhost:8080/",
          "height": 297
        },
        "id": "1rc2puFL3HVO",
        "outputId": "d59cc28e-9089-4831-8a22-5385a4c26925"
      },
      "source": [
        "df1 = pd.DataFrame({'Item':['A','B','C','D'],\r\n",
        "                    'Value': [1,2,3,4]})\r\n",
        "df2 = pd.DataFrame({'Item':['E','F','G','H'],\r\n",
        "                    'Quantity': [5,6,7,8]})\r\n",
        "pd.concat([df1,df2])"
      ],
      "execution_count": 8,
      "outputs": [
        {
          "output_type": "execute_result",
          "data": {
            "text/html": [
              "<div>\n",
              "<style scoped>\n",
              "    .dataframe tbody tr th:only-of-type {\n",
              "        vertical-align: middle;\n",
              "    }\n",
              "\n",
              "    .dataframe tbody tr th {\n",
              "        vertical-align: top;\n",
              "    }\n",
              "\n",
              "    .dataframe thead th {\n",
              "        text-align: right;\n",
              "    }\n",
              "</style>\n",
              "<table border=\"1\" class=\"dataframe\">\n",
              "  <thead>\n",
              "    <tr style=\"text-align: right;\">\n",
              "      <th></th>\n",
              "      <th>Item</th>\n",
              "      <th>Value</th>\n",
              "      <th>Quantity</th>\n",
              "    </tr>\n",
              "  </thead>\n",
              "  <tbody>\n",
              "    <tr>\n",
              "      <th>0</th>\n",
              "      <td>A</td>\n",
              "      <td>1.0</td>\n",
              "      <td>NaN</td>\n",
              "    </tr>\n",
              "    <tr>\n",
              "      <th>1</th>\n",
              "      <td>B</td>\n",
              "      <td>2.0</td>\n",
              "      <td>NaN</td>\n",
              "    </tr>\n",
              "    <tr>\n",
              "      <th>2</th>\n",
              "      <td>C</td>\n",
              "      <td>3.0</td>\n",
              "      <td>NaN</td>\n",
              "    </tr>\n",
              "    <tr>\n",
              "      <th>3</th>\n",
              "      <td>D</td>\n",
              "      <td>4.0</td>\n",
              "      <td>NaN</td>\n",
              "    </tr>\n",
              "    <tr>\n",
              "      <th>0</th>\n",
              "      <td>E</td>\n",
              "      <td>NaN</td>\n",
              "      <td>5.0</td>\n",
              "    </tr>\n",
              "    <tr>\n",
              "      <th>1</th>\n",
              "      <td>F</td>\n",
              "      <td>NaN</td>\n",
              "      <td>6.0</td>\n",
              "    </tr>\n",
              "    <tr>\n",
              "      <th>2</th>\n",
              "      <td>G</td>\n",
              "      <td>NaN</td>\n",
              "      <td>7.0</td>\n",
              "    </tr>\n",
              "    <tr>\n",
              "      <th>3</th>\n",
              "      <td>H</td>\n",
              "      <td>NaN</td>\n",
              "      <td>8.0</td>\n",
              "    </tr>\n",
              "  </tbody>\n",
              "</table>\n",
              "</div>"
            ],
            "text/plain": [
              "  Item  Value  Quantity\n",
              "0    A    1.0       NaN\n",
              "1    B    2.0       NaN\n",
              "2    C    3.0       NaN\n",
              "3    D    4.0       NaN\n",
              "0    E    NaN       5.0\n",
              "1    F    NaN       6.0\n",
              "2    G    NaN       7.0\n",
              "3    H    NaN       8.0"
            ]
          },
          "metadata": {
            "tags": []
          },
          "execution_count": 8
        }
      ]
    },
    {
      "cell_type": "code",
      "metadata": {
        "colab": {
          "base_uri": "https://localhost:8080/",
          "height": 297
        },
        "id": "IQPrdNBffuns",
        "outputId": "3b68d62c-45d7-4a94-ed71-179b9a70f5b8"
      },
      "source": [
        "df1 = pd.DataFrame({'Item':['A','B','C','D'],\n",
        "                    'Value': [1,2,3,4]})\n",
        "df2 = pd.DataFrame({'Item':['E','F','G','H'],\n",
        "                    'Quantity': [5,6,7,8]})\n",
        "pd.concat([df1,df2]).reset_index()"
      ],
      "execution_count": 9,
      "outputs": [
        {
          "output_type": "execute_result",
          "data": {
            "text/html": [
              "<div>\n",
              "<style scoped>\n",
              "    .dataframe tbody tr th:only-of-type {\n",
              "        vertical-align: middle;\n",
              "    }\n",
              "\n",
              "    .dataframe tbody tr th {\n",
              "        vertical-align: top;\n",
              "    }\n",
              "\n",
              "    .dataframe thead th {\n",
              "        text-align: right;\n",
              "    }\n",
              "</style>\n",
              "<table border=\"1\" class=\"dataframe\">\n",
              "  <thead>\n",
              "    <tr style=\"text-align: right;\">\n",
              "      <th></th>\n",
              "      <th>index</th>\n",
              "      <th>Item</th>\n",
              "      <th>Value</th>\n",
              "      <th>Quantity</th>\n",
              "    </tr>\n",
              "  </thead>\n",
              "  <tbody>\n",
              "    <tr>\n",
              "      <th>0</th>\n",
              "      <td>0</td>\n",
              "      <td>A</td>\n",
              "      <td>1.0</td>\n",
              "      <td>NaN</td>\n",
              "    </tr>\n",
              "    <tr>\n",
              "      <th>1</th>\n",
              "      <td>1</td>\n",
              "      <td>B</td>\n",
              "      <td>2.0</td>\n",
              "      <td>NaN</td>\n",
              "    </tr>\n",
              "    <tr>\n",
              "      <th>2</th>\n",
              "      <td>2</td>\n",
              "      <td>C</td>\n",
              "      <td>3.0</td>\n",
              "      <td>NaN</td>\n",
              "    </tr>\n",
              "    <tr>\n",
              "      <th>3</th>\n",
              "      <td>3</td>\n",
              "      <td>D</td>\n",
              "      <td>4.0</td>\n",
              "      <td>NaN</td>\n",
              "    </tr>\n",
              "    <tr>\n",
              "      <th>4</th>\n",
              "      <td>0</td>\n",
              "      <td>E</td>\n",
              "      <td>NaN</td>\n",
              "      <td>5.0</td>\n",
              "    </tr>\n",
              "    <tr>\n",
              "      <th>5</th>\n",
              "      <td>1</td>\n",
              "      <td>F</td>\n",
              "      <td>NaN</td>\n",
              "      <td>6.0</td>\n",
              "    </tr>\n",
              "    <tr>\n",
              "      <th>6</th>\n",
              "      <td>2</td>\n",
              "      <td>G</td>\n",
              "      <td>NaN</td>\n",
              "      <td>7.0</td>\n",
              "    </tr>\n",
              "    <tr>\n",
              "      <th>7</th>\n",
              "      <td>3</td>\n",
              "      <td>H</td>\n",
              "      <td>NaN</td>\n",
              "      <td>8.0</td>\n",
              "    </tr>\n",
              "  </tbody>\n",
              "</table>\n",
              "</div>"
            ],
            "text/plain": [
              "   index Item  Value  Quantity\n",
              "0      0    A    1.0       NaN\n",
              "1      1    B    2.0       NaN\n",
              "2      2    C    3.0       NaN\n",
              "3      3    D    4.0       NaN\n",
              "4      0    E    NaN       5.0\n",
              "5      1    F    NaN       6.0\n",
              "6      2    G    NaN       7.0\n",
              "7      3    H    NaN       8.0"
            ]
          },
          "metadata": {
            "tags": []
          },
          "execution_count": 9
        }
      ]
    },
    {
      "cell_type": "code",
      "metadata": {
        "colab": {
          "base_uri": "https://localhost:8080/",
          "height": 166
        },
        "id": "8kEDiAsKgfaG",
        "outputId": "326c7d9e-a137-46cb-fbdf-199eceb83630"
      },
      "source": [
        "df1 = pd.DataFrame({'Item':['A','B','C','D'],\n",
        "                    'Value': [1,2,3,4]})\n",
        "df2 = pd.DataFrame({'Item':['E','F','G','H'],\n",
        "                    'Quantity': [5,6,7,8]})\n",
        "pd.concat([df1,df2], axis=1)"
      ],
      "execution_count": null,
      "outputs": [
        {
          "output_type": "execute_result",
          "data": {
            "text/html": [
              "<div>\n",
              "<style scoped>\n",
              "    .dataframe tbody tr th:only-of-type {\n",
              "        vertical-align: middle;\n",
              "    }\n",
              "\n",
              "    .dataframe tbody tr th {\n",
              "        vertical-align: top;\n",
              "    }\n",
              "\n",
              "    .dataframe thead th {\n",
              "        text-align: right;\n",
              "    }\n",
              "</style>\n",
              "<table border=\"1\" class=\"dataframe\">\n",
              "  <thead>\n",
              "    <tr style=\"text-align: right;\">\n",
              "      <th></th>\n",
              "      <th>Item</th>\n",
              "      <th>Value</th>\n",
              "      <th>Item</th>\n",
              "      <th>Quantity</th>\n",
              "    </tr>\n",
              "  </thead>\n",
              "  <tbody>\n",
              "    <tr>\n",
              "      <th>0</th>\n",
              "      <td>A</td>\n",
              "      <td>1</td>\n",
              "      <td>E</td>\n",
              "      <td>5</td>\n",
              "    </tr>\n",
              "    <tr>\n",
              "      <th>1</th>\n",
              "      <td>B</td>\n",
              "      <td>2</td>\n",
              "      <td>F</td>\n",
              "      <td>6</td>\n",
              "    </tr>\n",
              "    <tr>\n",
              "      <th>2</th>\n",
              "      <td>C</td>\n",
              "      <td>3</td>\n",
              "      <td>G</td>\n",
              "      <td>7</td>\n",
              "    </tr>\n",
              "    <tr>\n",
              "      <th>3</th>\n",
              "      <td>D</td>\n",
              "      <td>4</td>\n",
              "      <td>H</td>\n",
              "      <td>8</td>\n",
              "    </tr>\n",
              "  </tbody>\n",
              "</table>\n",
              "</div>"
            ],
            "text/plain": [
              "  Item  Value Item  Quantity\n",
              "0    A      1    E         5\n",
              "1    B      2    F         6\n",
              "2    C      3    G         7\n",
              "3    D      4    H         8"
            ]
          },
          "metadata": {
            "tags": []
          },
          "execution_count": 11
        }
      ]
    },
    {
      "cell_type": "markdown",
      "metadata": {
        "id": "Vher5vOt3esa"
      },
      "source": [
        "using append to add multiple dataframes to one another"
      ]
    },
    {
      "cell_type": "code",
      "metadata": {
        "colab": {
          "base_uri": "https://localhost:8080/",
          "height": 421
        },
        "id": "E2TGPs-Z3xK0",
        "outputId": "312fbcc3-a03c-47ba-ccb8-241c60836fbe"
      },
      "source": [
        "df1 = pd.DataFrame({'Item':['A','B','C','D'],\r\n",
        "                    'Value': [1,2,3,4]})\r\n",
        "df2 = pd.DataFrame({'Item':['E','F','G','H'],\r\n",
        "                    'Quantity': [5,6,7,8]})\r\n",
        "df3 = pd.DataFrame({'Item':['I','J','K','L'],\r\n",
        "                    'Quantity': [9,10,11,12]})\r\n",
        "df1.append([df2,df3])"
      ],
      "execution_count": 11,
      "outputs": [
        {
          "output_type": "execute_result",
          "data": {
            "text/html": [
              "<div>\n",
              "<style scoped>\n",
              "    .dataframe tbody tr th:only-of-type {\n",
              "        vertical-align: middle;\n",
              "    }\n",
              "\n",
              "    .dataframe tbody tr th {\n",
              "        vertical-align: top;\n",
              "    }\n",
              "\n",
              "    .dataframe thead th {\n",
              "        text-align: right;\n",
              "    }\n",
              "</style>\n",
              "<table border=\"1\" class=\"dataframe\">\n",
              "  <thead>\n",
              "    <tr style=\"text-align: right;\">\n",
              "      <th></th>\n",
              "      <th>Item</th>\n",
              "      <th>Value</th>\n",
              "      <th>Quantity</th>\n",
              "    </tr>\n",
              "  </thead>\n",
              "  <tbody>\n",
              "    <tr>\n",
              "      <th>0</th>\n",
              "      <td>A</td>\n",
              "      <td>1.0</td>\n",
              "      <td>NaN</td>\n",
              "    </tr>\n",
              "    <tr>\n",
              "      <th>1</th>\n",
              "      <td>B</td>\n",
              "      <td>2.0</td>\n",
              "      <td>NaN</td>\n",
              "    </tr>\n",
              "    <tr>\n",
              "      <th>2</th>\n",
              "      <td>C</td>\n",
              "      <td>3.0</td>\n",
              "      <td>NaN</td>\n",
              "    </tr>\n",
              "    <tr>\n",
              "      <th>3</th>\n",
              "      <td>D</td>\n",
              "      <td>4.0</td>\n",
              "      <td>NaN</td>\n",
              "    </tr>\n",
              "    <tr>\n",
              "      <th>0</th>\n",
              "      <td>E</td>\n",
              "      <td>NaN</td>\n",
              "      <td>5.0</td>\n",
              "    </tr>\n",
              "    <tr>\n",
              "      <th>1</th>\n",
              "      <td>F</td>\n",
              "      <td>NaN</td>\n",
              "      <td>6.0</td>\n",
              "    </tr>\n",
              "    <tr>\n",
              "      <th>2</th>\n",
              "      <td>G</td>\n",
              "      <td>NaN</td>\n",
              "      <td>7.0</td>\n",
              "    </tr>\n",
              "    <tr>\n",
              "      <th>3</th>\n",
              "      <td>H</td>\n",
              "      <td>NaN</td>\n",
              "      <td>8.0</td>\n",
              "    </tr>\n",
              "    <tr>\n",
              "      <th>0</th>\n",
              "      <td>I</td>\n",
              "      <td>NaN</td>\n",
              "      <td>9.0</td>\n",
              "    </tr>\n",
              "    <tr>\n",
              "      <th>1</th>\n",
              "      <td>J</td>\n",
              "      <td>NaN</td>\n",
              "      <td>10.0</td>\n",
              "    </tr>\n",
              "    <tr>\n",
              "      <th>2</th>\n",
              "      <td>K</td>\n",
              "      <td>NaN</td>\n",
              "      <td>11.0</td>\n",
              "    </tr>\n",
              "    <tr>\n",
              "      <th>3</th>\n",
              "      <td>L</td>\n",
              "      <td>NaN</td>\n",
              "      <td>12.0</td>\n",
              "    </tr>\n",
              "  </tbody>\n",
              "</table>\n",
              "</div>"
            ],
            "text/plain": [
              "  Item  Value  Quantity\n",
              "0    A    1.0       NaN\n",
              "1    B    2.0       NaN\n",
              "2    C    3.0       NaN\n",
              "3    D    4.0       NaN\n",
              "0    E    NaN       5.0\n",
              "1    F    NaN       6.0\n",
              "2    G    NaN       7.0\n",
              "3    H    NaN       8.0\n",
              "0    I    NaN       9.0\n",
              "1    J    NaN      10.0\n",
              "2    K    NaN      11.0\n",
              "3    L    NaN      12.0"
            ]
          },
          "metadata": {
            "tags": []
          },
          "execution_count": 11
        }
      ]
    },
    {
      "cell_type": "code",
      "metadata": {
        "colab": {
          "base_uri": "https://localhost:8080/",
          "height": 49
        },
        "id": "Tft91g6a3w-B",
        "outputId": "203e2668-ebea-4a5b-d70c-2a185638bb0f"
      },
      "source": [
        "dfA = pd.DataFrame({'key':['A','B','C','D'],\r\n",
        "                    'A': [1,2,3,4]})\r\n",
        "dfB = pd.DataFrame({'key':['E','F','G','H'],\r\n",
        "                    'B': [5,6,7,8]})\r\n",
        "pd.merge(dfA,dfB, on='key')"
      ],
      "execution_count": 12,
      "outputs": [
        {
          "output_type": "execute_result",
          "data": {
            "text/html": [
              "<div>\n",
              "<style scoped>\n",
              "    .dataframe tbody tr th:only-of-type {\n",
              "        vertical-align: middle;\n",
              "    }\n",
              "\n",
              "    .dataframe tbody tr th {\n",
              "        vertical-align: top;\n",
              "    }\n",
              "\n",
              "    .dataframe thead th {\n",
              "        text-align: right;\n",
              "    }\n",
              "</style>\n",
              "<table border=\"1\" class=\"dataframe\">\n",
              "  <thead>\n",
              "    <tr style=\"text-align: right;\">\n",
              "      <th></th>\n",
              "      <th>key</th>\n",
              "      <th>A</th>\n",
              "      <th>B</th>\n",
              "    </tr>\n",
              "  </thead>\n",
              "  <tbody>\n",
              "  </tbody>\n",
              "</table>\n",
              "</div>"
            ],
            "text/plain": [
              "Empty DataFrame\n",
              "Columns: [key, A, B]\n",
              "Index: []"
            ]
          },
          "metadata": {
            "tags": []
          },
          "execution_count": 12
        }
      ]
    },
    {
      "cell_type": "code",
      "metadata": {
        "colab": {
          "base_uri": "https://localhost:8080/",
          "height": 173
        },
        "id": "p5Ps2BNd3wrT",
        "outputId": "9c8633c1-7412-4322-d843-8d18f4466e2b"
      },
      "source": [
        "dfA = pd.DataFrame({'key':['K0','K1','K2','K3'],\r\n",
        "                    'A': ['A0','A1','A3','A4'],\r\n",
        "                    'B': ['B0','B1','B3','B4']})\r\n",
        "dfB = pd.DataFrame({'key':['K0','K1','K2','K3'],\r\n",
        "                    'C': ['C0','C1','C3','C4'],\r\n",
        "                    'D': ['D0','D1','D3','D4']})\r\n",
        "pd.merge(dfA,dfB, on='key')"
      ],
      "execution_count": 13,
      "outputs": [
        {
          "output_type": "execute_result",
          "data": {
            "text/html": [
              "<div>\n",
              "<style scoped>\n",
              "    .dataframe tbody tr th:only-of-type {\n",
              "        vertical-align: middle;\n",
              "    }\n",
              "\n",
              "    .dataframe tbody tr th {\n",
              "        vertical-align: top;\n",
              "    }\n",
              "\n",
              "    .dataframe thead th {\n",
              "        text-align: right;\n",
              "    }\n",
              "</style>\n",
              "<table border=\"1\" class=\"dataframe\">\n",
              "  <thead>\n",
              "    <tr style=\"text-align: right;\">\n",
              "      <th></th>\n",
              "      <th>key</th>\n",
              "      <th>A</th>\n",
              "      <th>B</th>\n",
              "      <th>C</th>\n",
              "      <th>D</th>\n",
              "    </tr>\n",
              "  </thead>\n",
              "  <tbody>\n",
              "    <tr>\n",
              "      <th>0</th>\n",
              "      <td>K0</td>\n",
              "      <td>A0</td>\n",
              "      <td>B0</td>\n",
              "      <td>C0</td>\n",
              "      <td>D0</td>\n",
              "    </tr>\n",
              "    <tr>\n",
              "      <th>1</th>\n",
              "      <td>K1</td>\n",
              "      <td>A1</td>\n",
              "      <td>B1</td>\n",
              "      <td>C1</td>\n",
              "      <td>D1</td>\n",
              "    </tr>\n",
              "    <tr>\n",
              "      <th>2</th>\n",
              "      <td>K2</td>\n",
              "      <td>A3</td>\n",
              "      <td>B3</td>\n",
              "      <td>C3</td>\n",
              "      <td>D3</td>\n",
              "    </tr>\n",
              "    <tr>\n",
              "      <th>3</th>\n",
              "      <td>K3</td>\n",
              "      <td>A4</td>\n",
              "      <td>B4</td>\n",
              "      <td>C4</td>\n",
              "      <td>D4</td>\n",
              "    </tr>\n",
              "  </tbody>\n",
              "</table>\n",
              "</div>"
            ],
            "text/plain": [
              "  key   A   B   C   D\n",
              "0  K0  A0  B0  C0  D0\n",
              "1  K1  A1  B1  C1  D1\n",
              "2  K2  A3  B3  C3  D3\n",
              "3  K3  A4  B4  C4  D4"
            ]
          },
          "metadata": {
            "tags": []
          },
          "execution_count": 13
        }
      ]
    },
    {
      "cell_type": "code",
      "metadata": {
        "colab": {
          "base_uri": "https://localhost:8080/",
          "height": 173
        },
        "id": "bEbjZsyQ4kHa",
        "outputId": "95ee8641-1fb8-4c60-8ff3-4e705b9e383f"
      },
      "source": [
        "dfA = pd.DataFrame({'key':['K0','K1','K2','K3'],\r\n",
        "                    'A': ['A0','A1','A3','A4'],\r\n",
        "                    'B': ['B0','B1','B3','B4']})\r\n",
        "dfB = pd.DataFrame({'key':['K0','K1','K2','K3'],\r\n",
        "                    'C': ['C0','C1','C3','C4'],\r\n",
        "                    'D': ['D0','D1','D3','D4']})\r\n",
        "pd.merge(dfA,dfB, how='left', on='key')"
      ],
      "execution_count": 14,
      "outputs": [
        {
          "output_type": "execute_result",
          "data": {
            "text/html": [
              "<div>\n",
              "<style scoped>\n",
              "    .dataframe tbody tr th:only-of-type {\n",
              "        vertical-align: middle;\n",
              "    }\n",
              "\n",
              "    .dataframe tbody tr th {\n",
              "        vertical-align: top;\n",
              "    }\n",
              "\n",
              "    .dataframe thead th {\n",
              "        text-align: right;\n",
              "    }\n",
              "</style>\n",
              "<table border=\"1\" class=\"dataframe\">\n",
              "  <thead>\n",
              "    <tr style=\"text-align: right;\">\n",
              "      <th></th>\n",
              "      <th>key</th>\n",
              "      <th>A</th>\n",
              "      <th>B</th>\n",
              "      <th>C</th>\n",
              "      <th>D</th>\n",
              "    </tr>\n",
              "  </thead>\n",
              "  <tbody>\n",
              "    <tr>\n",
              "      <th>0</th>\n",
              "      <td>K0</td>\n",
              "      <td>A0</td>\n",
              "      <td>B0</td>\n",
              "      <td>C0</td>\n",
              "      <td>D0</td>\n",
              "    </tr>\n",
              "    <tr>\n",
              "      <th>1</th>\n",
              "      <td>K1</td>\n",
              "      <td>A1</td>\n",
              "      <td>B1</td>\n",
              "      <td>C1</td>\n",
              "      <td>D1</td>\n",
              "    </tr>\n",
              "    <tr>\n",
              "      <th>2</th>\n",
              "      <td>K2</td>\n",
              "      <td>A3</td>\n",
              "      <td>B3</td>\n",
              "      <td>C3</td>\n",
              "      <td>D3</td>\n",
              "    </tr>\n",
              "    <tr>\n",
              "      <th>3</th>\n",
              "      <td>K3</td>\n",
              "      <td>A4</td>\n",
              "      <td>B4</td>\n",
              "      <td>C4</td>\n",
              "      <td>D4</td>\n",
              "    </tr>\n",
              "  </tbody>\n",
              "</table>\n",
              "</div>"
            ],
            "text/plain": [
              "  key   A   B   C   D\n",
              "0  K0  A0  B0  C0  D0\n",
              "1  K1  A1  B1  C1  D1\n",
              "2  K2  A3  B3  C3  D3\n",
              "3  K3  A4  B4  C4  D4"
            ]
          },
          "metadata": {
            "tags": []
          },
          "execution_count": 14
        }
      ]
    },
    {
      "cell_type": "code",
      "metadata": {
        "colab": {
          "base_uri": "https://localhost:8080/",
          "height": 173
        },
        "id": "sKLGHXQv4tB-",
        "outputId": "caade669-9f27-4dba-b363-a43432bccd03"
      },
      "source": [
        "dfA = pd.DataFrame({'key':['K0','K1','K2','K3'],\r\n",
        "                    'A': ['A0','A1','A3','A4'],\r\n",
        "                    'B': ['B0','B1','B3','B4']})\r\n",
        "dfB = pd.DataFrame({'key':['K0','K1','K2','K3'],\r\n",
        "                    'C': ['C0','C1','C3','C4'],\r\n",
        "                    'D': ['D0','D1','D3','D4']})\r\n",
        "pd.merge(dfA,dfB, how='right', on='key')"
      ],
      "execution_count": 15,
      "outputs": [
        {
          "output_type": "execute_result",
          "data": {
            "text/html": [
              "<div>\n",
              "<style scoped>\n",
              "    .dataframe tbody tr th:only-of-type {\n",
              "        vertical-align: middle;\n",
              "    }\n",
              "\n",
              "    .dataframe tbody tr th {\n",
              "        vertical-align: top;\n",
              "    }\n",
              "\n",
              "    .dataframe thead th {\n",
              "        text-align: right;\n",
              "    }\n",
              "</style>\n",
              "<table border=\"1\" class=\"dataframe\">\n",
              "  <thead>\n",
              "    <tr style=\"text-align: right;\">\n",
              "      <th></th>\n",
              "      <th>key</th>\n",
              "      <th>A</th>\n",
              "      <th>B</th>\n",
              "      <th>C</th>\n",
              "      <th>D</th>\n",
              "    </tr>\n",
              "  </thead>\n",
              "  <tbody>\n",
              "    <tr>\n",
              "      <th>0</th>\n",
              "      <td>K0</td>\n",
              "      <td>A0</td>\n",
              "      <td>B0</td>\n",
              "      <td>C0</td>\n",
              "      <td>D0</td>\n",
              "    </tr>\n",
              "    <tr>\n",
              "      <th>1</th>\n",
              "      <td>K1</td>\n",
              "      <td>A1</td>\n",
              "      <td>B1</td>\n",
              "      <td>C1</td>\n",
              "      <td>D1</td>\n",
              "    </tr>\n",
              "    <tr>\n",
              "      <th>2</th>\n",
              "      <td>K2</td>\n",
              "      <td>A3</td>\n",
              "      <td>B3</td>\n",
              "      <td>C3</td>\n",
              "      <td>D3</td>\n",
              "    </tr>\n",
              "    <tr>\n",
              "      <th>3</th>\n",
              "      <td>K3</td>\n",
              "      <td>A4</td>\n",
              "      <td>B4</td>\n",
              "      <td>C4</td>\n",
              "      <td>D4</td>\n",
              "    </tr>\n",
              "  </tbody>\n",
              "</table>\n",
              "</div>"
            ],
            "text/plain": [
              "  key   A   B   C   D\n",
              "0  K0  A0  B0  C0  D0\n",
              "1  K1  A1  B1  C1  D1\n",
              "2  K2  A3  B3  C3  D3\n",
              "3  K3  A4  B4  C4  D4"
            ]
          },
          "metadata": {
            "tags": []
          },
          "execution_count": 15
        }
      ]
    },
    {
      "cell_type": "code",
      "metadata": {
        "colab": {
          "base_uri": "https://localhost:8080/",
          "height": 166
        },
        "id": "QX7DQOnikFPS",
        "outputId": "a8b0cc8b-8d11-4d6c-9578-0bf44aae1e62"
      },
      "source": [
        "dfA = pd.DataFrame({'key':['K0','K1','K2','K3'],\n",
        "                    'A': ['A0','A1','A3','A4'],\n",
        "                    'B': ['B0','B1','B3','B4']})\n",
        "dfB = pd.DataFrame({'key':['K0','K1','K2','K3'],\n",
        "                    'C': ['C0','C1','C3','C4'],\n",
        "                    'D': ['D0','D1','D3','D4']})\n",
        "pd.merge(dfA,dfB, how='left', on='key')"
      ],
      "execution_count": null,
      "outputs": [
        {
          "output_type": "execute_result",
          "data": {
            "text/html": [
              "<div>\n",
              "<style scoped>\n",
              "    .dataframe tbody tr th:only-of-type {\n",
              "        vertical-align: middle;\n",
              "    }\n",
              "\n",
              "    .dataframe tbody tr th {\n",
              "        vertical-align: top;\n",
              "    }\n",
              "\n",
              "    .dataframe thead th {\n",
              "        text-align: right;\n",
              "    }\n",
              "</style>\n",
              "<table border=\"1\" class=\"dataframe\">\n",
              "  <thead>\n",
              "    <tr style=\"text-align: right;\">\n",
              "      <th></th>\n",
              "      <th>key</th>\n",
              "      <th>A</th>\n",
              "      <th>B</th>\n",
              "      <th>C</th>\n",
              "      <th>D</th>\n",
              "    </tr>\n",
              "  </thead>\n",
              "  <tbody>\n",
              "    <tr>\n",
              "      <th>0</th>\n",
              "      <td>K0</td>\n",
              "      <td>A0</td>\n",
              "      <td>B0</td>\n",
              "      <td>C0</td>\n",
              "      <td>D0</td>\n",
              "    </tr>\n",
              "    <tr>\n",
              "      <th>1</th>\n",
              "      <td>K1</td>\n",
              "      <td>A1</td>\n",
              "      <td>B1</td>\n",
              "      <td>C1</td>\n",
              "      <td>D1</td>\n",
              "    </tr>\n",
              "    <tr>\n",
              "      <th>2</th>\n",
              "      <td>K2</td>\n",
              "      <td>A3</td>\n",
              "      <td>B3</td>\n",
              "      <td>C3</td>\n",
              "      <td>D3</td>\n",
              "    </tr>\n",
              "    <tr>\n",
              "      <th>3</th>\n",
              "      <td>K3</td>\n",
              "      <td>A4</td>\n",
              "      <td>B4</td>\n",
              "      <td>C4</td>\n",
              "      <td>D4</td>\n",
              "    </tr>\n",
              "  </tbody>\n",
              "</table>\n",
              "</div>"
            ],
            "text/plain": [
              "  key   A   B   C   D\n",
              "0  K0  A0  B0  C0  D0\n",
              "1  K1  A1  B1  C1  D1\n",
              "2  K2  A3  B3  C3  D3\n",
              "3  K3  A4  B4  C4  D4"
            ]
          },
          "metadata": {
            "tags": []
          },
          "execution_count": 17
        }
      ]
    },
    {
      "cell_type": "code",
      "metadata": {
        "colab": {
          "base_uri": "https://localhost:8080/",
          "height": 173
        },
        "id": "e7HeQZaX44Ub",
        "outputId": "325cafb7-cffe-45cb-ea7c-c9fefa81f2d8"
      },
      "source": [
        "dfA = pd.DataFrame({'key':['K0','K1','K2','K3'],\r\n",
        "                    'A': ['A0','A1','A3','A4'],\r\n",
        "                    'B': ['B0','B1','B3','B4']})\r\n",
        "dfB = pd.DataFrame({'key':['K0','K1','K2','K3'],\r\n",
        "                    'C': ['C0','C1','C3','C4'],\r\n",
        "                    'D': ['D0','D1','D3','D4']})\r\n",
        "pd.merge(dfA,dfB, how='inner', on='key')"
      ],
      "execution_count": 16,
      "outputs": [
        {
          "output_type": "execute_result",
          "data": {
            "text/html": [
              "<div>\n",
              "<style scoped>\n",
              "    .dataframe tbody tr th:only-of-type {\n",
              "        vertical-align: middle;\n",
              "    }\n",
              "\n",
              "    .dataframe tbody tr th {\n",
              "        vertical-align: top;\n",
              "    }\n",
              "\n",
              "    .dataframe thead th {\n",
              "        text-align: right;\n",
              "    }\n",
              "</style>\n",
              "<table border=\"1\" class=\"dataframe\">\n",
              "  <thead>\n",
              "    <tr style=\"text-align: right;\">\n",
              "      <th></th>\n",
              "      <th>key</th>\n",
              "      <th>A</th>\n",
              "      <th>B</th>\n",
              "      <th>C</th>\n",
              "      <th>D</th>\n",
              "    </tr>\n",
              "  </thead>\n",
              "  <tbody>\n",
              "    <tr>\n",
              "      <th>0</th>\n",
              "      <td>K0</td>\n",
              "      <td>A0</td>\n",
              "      <td>B0</td>\n",
              "      <td>C0</td>\n",
              "      <td>D0</td>\n",
              "    </tr>\n",
              "    <tr>\n",
              "      <th>1</th>\n",
              "      <td>K1</td>\n",
              "      <td>A1</td>\n",
              "      <td>B1</td>\n",
              "      <td>C1</td>\n",
              "      <td>D1</td>\n",
              "    </tr>\n",
              "    <tr>\n",
              "      <th>2</th>\n",
              "      <td>K2</td>\n",
              "      <td>A3</td>\n",
              "      <td>B3</td>\n",
              "      <td>C3</td>\n",
              "      <td>D3</td>\n",
              "    </tr>\n",
              "    <tr>\n",
              "      <th>3</th>\n",
              "      <td>K3</td>\n",
              "      <td>A4</td>\n",
              "      <td>B4</td>\n",
              "      <td>C4</td>\n",
              "      <td>D4</td>\n",
              "    </tr>\n",
              "  </tbody>\n",
              "</table>\n",
              "</div>"
            ],
            "text/plain": [
              "  key   A   B   C   D\n",
              "0  K0  A0  B0  C0  D0\n",
              "1  K1  A1  B1  C1  D1\n",
              "2  K2  A3  B3  C3  D3\n",
              "3  K3  A4  B4  C4  D4"
            ]
          },
          "metadata": {
            "tags": []
          },
          "execution_count": 16
        }
      ]
    },
    {
      "cell_type": "markdown",
      "metadata": {
        "id": "Y8Xb2Dfy5Jep"
      },
      "source": [
        "joining\r\n"
      ]
    },
    {
      "cell_type": "code",
      "metadata": {
        "id": "L2PmuS4k5IL0"
      },
      "source": [
        "l=pd.DataFrame({'key':['a0','b1','c2','d3'],'A':['e0','f1','g2','h3']},index=['i0','j1','k2','l3'])"
      ],
      "execution_count": 17,
      "outputs": []
    },
    {
      "cell_type": "code",
      "metadata": {
        "colab": {
          "base_uri": "https://localhost:8080/",
          "height": 173
        },
        "id": "nLdi0GBn5NX9",
        "outputId": "1fc48930-ceaa-492a-a060-6ec3bc2c1cc8"
      },
      "source": [
        "l\r\n"
      ],
      "execution_count": 18,
      "outputs": [
        {
          "output_type": "execute_result",
          "data": {
            "text/html": [
              "<div>\n",
              "<style scoped>\n",
              "    .dataframe tbody tr th:only-of-type {\n",
              "        vertical-align: middle;\n",
              "    }\n",
              "\n",
              "    .dataframe tbody tr th {\n",
              "        vertical-align: top;\n",
              "    }\n",
              "\n",
              "    .dataframe thead th {\n",
              "        text-align: right;\n",
              "    }\n",
              "</style>\n",
              "<table border=\"1\" class=\"dataframe\">\n",
              "  <thead>\n",
              "    <tr style=\"text-align: right;\">\n",
              "      <th></th>\n",
              "      <th>key</th>\n",
              "      <th>A</th>\n",
              "    </tr>\n",
              "  </thead>\n",
              "  <tbody>\n",
              "    <tr>\n",
              "      <th>i0</th>\n",
              "      <td>a0</td>\n",
              "      <td>e0</td>\n",
              "    </tr>\n",
              "    <tr>\n",
              "      <th>j1</th>\n",
              "      <td>b1</td>\n",
              "      <td>f1</td>\n",
              "    </tr>\n",
              "    <tr>\n",
              "      <th>k2</th>\n",
              "      <td>c2</td>\n",
              "      <td>g2</td>\n",
              "    </tr>\n",
              "    <tr>\n",
              "      <th>l3</th>\n",
              "      <td>d3</td>\n",
              "      <td>h3</td>\n",
              "    </tr>\n",
              "  </tbody>\n",
              "</table>\n",
              "</div>"
            ],
            "text/plain": [
              "   key   A\n",
              "i0  a0  e0\n",
              "j1  b1  f1\n",
              "k2  c2  g2\n",
              "l3  d3  h3"
            ]
          },
          "metadata": {
            "tags": []
          },
          "execution_count": 18
        }
      ]
    },
    {
      "cell_type": "code",
      "metadata": {
        "colab": {
          "base_uri": "https://localhost:8080/",
          "height": 173
        },
        "id": "Kv2V0KRG5NMX",
        "outputId": "d89765e2-3834-444e-ec99-3a29a00f20d8"
      },
      "source": [
        "r=pd.DataFrame({'key':['a0','b1','c2','d3'],'A':['e0','f1','g2','h3']},index=['i3','j2','k1','l0'])\r\n",
        "r"
      ],
      "execution_count": 19,
      "outputs": [
        {
          "output_type": "execute_result",
          "data": {
            "text/html": [
              "<div>\n",
              "<style scoped>\n",
              "    .dataframe tbody tr th:only-of-type {\n",
              "        vertical-align: middle;\n",
              "    }\n",
              "\n",
              "    .dataframe tbody tr th {\n",
              "        vertical-align: top;\n",
              "    }\n",
              "\n",
              "    .dataframe thead th {\n",
              "        text-align: right;\n",
              "    }\n",
              "</style>\n",
              "<table border=\"1\" class=\"dataframe\">\n",
              "  <thead>\n",
              "    <tr style=\"text-align: right;\">\n",
              "      <th></th>\n",
              "      <th>key</th>\n",
              "      <th>A</th>\n",
              "    </tr>\n",
              "  </thead>\n",
              "  <tbody>\n",
              "    <tr>\n",
              "      <th>i3</th>\n",
              "      <td>a0</td>\n",
              "      <td>e0</td>\n",
              "    </tr>\n",
              "    <tr>\n",
              "      <th>j2</th>\n",
              "      <td>b1</td>\n",
              "      <td>f1</td>\n",
              "    </tr>\n",
              "    <tr>\n",
              "      <th>k1</th>\n",
              "      <td>c2</td>\n",
              "      <td>g2</td>\n",
              "    </tr>\n",
              "    <tr>\n",
              "      <th>l0</th>\n",
              "      <td>d3</td>\n",
              "      <td>h3</td>\n",
              "    </tr>\n",
              "  </tbody>\n",
              "</table>\n",
              "</div>"
            ],
            "text/plain": [
              "   key   A\n",
              "i3  a0  e0\n",
              "j2  b1  f1\n",
              "k1  c2  g2\n",
              "l0  d3  h3"
            ]
          },
          "metadata": {
            "tags": []
          },
          "execution_count": 19
        }
      ]
    },
    {
      "cell_type": "code",
      "metadata": {
        "id": "uyPGB8D_zinw"
      },
      "source": [
        "l=pd.DataFrame({'A':['a0','b1','c2'],'B':['e0','f1','g2']},index=['i0','j1','k2'])"
      ],
      "execution_count": null,
      "outputs": []
    },
    {
      "cell_type": "code",
      "metadata": {
        "colab": {
          "base_uri": "https://localhost:8080/",
          "height": 173
        },
        "id": "MHqylDtD5jTe",
        "outputId": "91967d8e-599c-4ed6-dcad-1f49c12a724f"
      },
      "source": [
        "r=pd.DataFrame({'C':['m0','n1','p2'],'D':['r0','s1','t2']},index=['v0','w2','x3'])\r\n",
        "l.join(r)"
      ],
      "execution_count": 20,
      "outputs": [
        {
          "output_type": "execute_result",
          "data": {
            "text/html": [
              "<div>\n",
              "<style scoped>\n",
              "    .dataframe tbody tr th:only-of-type {\n",
              "        vertical-align: middle;\n",
              "    }\n",
              "\n",
              "    .dataframe tbody tr th {\n",
              "        vertical-align: top;\n",
              "    }\n",
              "\n",
              "    .dataframe thead th {\n",
              "        text-align: right;\n",
              "    }\n",
              "</style>\n",
              "<table border=\"1\" class=\"dataframe\">\n",
              "  <thead>\n",
              "    <tr style=\"text-align: right;\">\n",
              "      <th></th>\n",
              "      <th>key</th>\n",
              "      <th>A</th>\n",
              "      <th>C</th>\n",
              "      <th>D</th>\n",
              "    </tr>\n",
              "  </thead>\n",
              "  <tbody>\n",
              "    <tr>\n",
              "      <th>i0</th>\n",
              "      <td>a0</td>\n",
              "      <td>e0</td>\n",
              "      <td>NaN</td>\n",
              "      <td>NaN</td>\n",
              "    </tr>\n",
              "    <tr>\n",
              "      <th>j1</th>\n",
              "      <td>b1</td>\n",
              "      <td>f1</td>\n",
              "      <td>NaN</td>\n",
              "      <td>NaN</td>\n",
              "    </tr>\n",
              "    <tr>\n",
              "      <th>k2</th>\n",
              "      <td>c2</td>\n",
              "      <td>g2</td>\n",
              "      <td>NaN</td>\n",
              "      <td>NaN</td>\n",
              "    </tr>\n",
              "    <tr>\n",
              "      <th>l3</th>\n",
              "      <td>d3</td>\n",
              "      <td>h3</td>\n",
              "      <td>NaN</td>\n",
              "      <td>NaN</td>\n",
              "    </tr>\n",
              "  </tbody>\n",
              "</table>\n",
              "</div>"
            ],
            "text/plain": [
              "   key   A    C    D\n",
              "i0  a0  e0  NaN  NaN\n",
              "j1  b1  f1  NaN  NaN\n",
              "k2  c2  g2  NaN  NaN\n",
              "l3  d3  h3  NaN  NaN"
            ]
          },
          "metadata": {
            "tags": []
          },
          "execution_count": 20
        }
      ]
    },
    {
      "cell_type": "code",
      "metadata": {
        "colab": {
          "base_uri": "https://localhost:8080/",
          "height": 266
        },
        "id": "NlDgwtik5rwV",
        "outputId": "e6c28de8-615a-4747-f824-c76fb7d6d71e"
      },
      "source": [
        "l.join(r,how='outer')"
      ],
      "execution_count": 21,
      "outputs": [
        {
          "output_type": "execute_result",
          "data": {
            "text/html": [
              "<div>\n",
              "<style scoped>\n",
              "    .dataframe tbody tr th:only-of-type {\n",
              "        vertical-align: middle;\n",
              "    }\n",
              "\n",
              "    .dataframe tbody tr th {\n",
              "        vertical-align: top;\n",
              "    }\n",
              "\n",
              "    .dataframe thead th {\n",
              "        text-align: right;\n",
              "    }\n",
              "</style>\n",
              "<table border=\"1\" class=\"dataframe\">\n",
              "  <thead>\n",
              "    <tr style=\"text-align: right;\">\n",
              "      <th></th>\n",
              "      <th>key</th>\n",
              "      <th>A</th>\n",
              "      <th>C</th>\n",
              "      <th>D</th>\n",
              "    </tr>\n",
              "  </thead>\n",
              "  <tbody>\n",
              "    <tr>\n",
              "      <th>i0</th>\n",
              "      <td>a0</td>\n",
              "      <td>e0</td>\n",
              "      <td>NaN</td>\n",
              "      <td>NaN</td>\n",
              "    </tr>\n",
              "    <tr>\n",
              "      <th>j1</th>\n",
              "      <td>b1</td>\n",
              "      <td>f1</td>\n",
              "      <td>NaN</td>\n",
              "      <td>NaN</td>\n",
              "    </tr>\n",
              "    <tr>\n",
              "      <th>k2</th>\n",
              "      <td>c2</td>\n",
              "      <td>g2</td>\n",
              "      <td>NaN</td>\n",
              "      <td>NaN</td>\n",
              "    </tr>\n",
              "    <tr>\n",
              "      <th>l3</th>\n",
              "      <td>d3</td>\n",
              "      <td>h3</td>\n",
              "      <td>NaN</td>\n",
              "      <td>NaN</td>\n",
              "    </tr>\n",
              "    <tr>\n",
              "      <th>v0</th>\n",
              "      <td>NaN</td>\n",
              "      <td>NaN</td>\n",
              "      <td>m0</td>\n",
              "      <td>r0</td>\n",
              "    </tr>\n",
              "    <tr>\n",
              "      <th>w2</th>\n",
              "      <td>NaN</td>\n",
              "      <td>NaN</td>\n",
              "      <td>n1</td>\n",
              "      <td>s1</td>\n",
              "    </tr>\n",
              "    <tr>\n",
              "      <th>x3</th>\n",
              "      <td>NaN</td>\n",
              "      <td>NaN</td>\n",
              "      <td>p2</td>\n",
              "      <td>t2</td>\n",
              "    </tr>\n",
              "  </tbody>\n",
              "</table>\n",
              "</div>"
            ],
            "text/plain": [
              "    key    A    C    D\n",
              "i0   a0   e0  NaN  NaN\n",
              "j1   b1   f1  NaN  NaN\n",
              "k2   c2   g2  NaN  NaN\n",
              "l3   d3   h3  NaN  NaN\n",
              "v0  NaN  NaN   m0   r0\n",
              "w2  NaN  NaN   n1   s1\n",
              "x3  NaN  NaN   p2   t2"
            ]
          },
          "metadata": {
            "tags": []
          },
          "execution_count": 21
        }
      ]
    },
    {
      "cell_type": "code",
      "metadata": {
        "colab": {
          "base_uri": "https://localhost:8080/"
        },
        "id": "3bLk4KFf52_b",
        "outputId": "83a6ab74-7278-44d5-c3cf-32949b3f648e"
      },
      "source": [
        "def computehcf(x,y):\r\n",
        "  #choose the smaller number\r\n",
        "    if x>y:\r\n",
        "      smaller=y\r\n",
        "    else:\r\n",
        "      smaller=y\r\n",
        "    for i in range(1,smaller+1):\r\n",
        "      if((x%i==0) and (y%i==0)):\r\n",
        "        hcf=i\r\n",
        "    return hcf      \r\n",
        "\r\n",
        "num1=int(input(\"enter the first number\\t\"))\r\n",
        "num2=int(input(\"enter the second number\\t\"))\r\n",
        "print(\"the hcf of\",num1,\"and\",num2,\"is\",computehcf(num1,num2))"
      ],
      "execution_count": 22,
      "outputs": [
        {
          "output_type": "stream",
          "text": [
            "enter the first number\t43\n",
            "enter the second number\t45\n",
            "the hcf of 43 and 45 is 1\n"
          ],
          "name": "stdout"
        }
      ]
    },
    {
      "cell_type": "code",
      "metadata": {
        "id": "U2tb5knO5rlK"
      },
      "source": [
        ""
      ],
      "execution_count": null,
      "outputs": []
    },
    {
      "cell_type": "code",
      "metadata": {
        "id": "1t2YhwI45raP"
      },
      "source": [
        ""
      ],
      "execution_count": null,
      "outputs": []
    },
    {
      "cell_type": "markdown",
      "metadata": {
        "id": "H1xSSLlrqG27"
      },
      "source": [
        "Dictionaries"
      ]
    },
    {
      "cell_type": "code",
      "metadata": {
        "id": "yOUudPtv5cut"
      },
      "source": [
        ""
      ],
      "execution_count": null,
      "outputs": []
    },
    {
      "cell_type": "code",
      "metadata": {
        "id": "lcQeZyUSnoYd",
        "colab": {
          "base_uri": "https://localhost:8080/"
        },
        "outputId": "53936ed9-a46e-4d02-ae89-63294fe8f5ea"
      },
      "source": [
        "#creating a dictionary\n",
        "country_info ={\"Name\": \"India\",\"Capital\":\"Delhi\"}\n",
        "print(country_info)"
      ],
      "execution_count": null,
      "outputs": [
        {
          "output_type": "stream",
          "text": [
            "{'Name': 'India', 'Capital': 'Delhi'}\n"
          ],
          "name": "stdout"
        }
      ]
    },
    {
      "cell_type": "code",
      "metadata": {
        "id": "bUelsY0MrPqX",
        "colab": {
          "base_uri": "https://localhost:8080/"
        },
        "outputId": "3821062a-31d5-4add-e536-7529277f9df5"
      },
      "source": [
        "country_info ={\"Name\": \"India\",\"Capital\":\"Delhi\"}\n",
        "print(country_info[\"Name\"])"
      ],
      "execution_count": null,
      "outputs": [
        {
          "output_type": "stream",
          "text": [
            "India\n"
          ],
          "name": "stdout"
        }
      ]
    },
    {
      "cell_type": "code",
      "metadata": {
        "id": "SvR0pjXRrdhc",
        "colab": {
          "base_uri": "https://localhost:8080/"
        },
        "outputId": "58921a6e-ea2e-4c46-ca23-587492314ee5"
      },
      "source": [
        "country_info ={\"Name\": \"India\",\"Capital\":\"Delhi\"}\n",
        "print(country_info[\"Capital\"])"
      ],
      "execution_count": null,
      "outputs": [
        {
          "output_type": "stream",
          "text": [
            "Delhi\n"
          ],
          "name": "stdout"
        }
      ]
    },
    {
      "cell_type": "code",
      "metadata": {
        "id": "h8onlBahra3i",
        "colab": {
          "base_uri": "https://localhost:8080/"
        },
        "outputId": "e8eef0c5-688e-4383-be70-662d91e185c3"
      },
      "source": [
        "#creating a dictionary\n",
        "country_info ={\"Name\": \"Japan\",\"Capital\":\"Tokoyo\"}\n",
        "print(country_info)\n",
        "print(country_info[\"Name\"])\n",
        "print(country_info[\"Capital\"])\n",
        "\n"
      ],
      "execution_count": null,
      "outputs": [
        {
          "output_type": "stream",
          "text": [
            "{'Name': 'Japan', 'Capital': 'Tokoyo'}\n",
            "Japan\n",
            "Tokoyo\n"
          ],
          "name": "stdout"
        }
      ]
    },
    {
      "cell_type": "code",
      "metadata": {
        "id": "zK5ebBFCsjKq",
        "colab": {
          "base_uri": "https://localhost:8080/"
        },
        "outputId": "e05d7a64-e919-49e7-a473-9d2c1bf03291"
      },
      "source": [
        "country_info['population']=139.67\n",
        "print(country_info)"
      ],
      "execution_count": null,
      "outputs": [
        {
          "output_type": "stream",
          "text": [
            "{'Name': 'Japan', 'Capital': 'Tokoyo', 'population': 139.67}\n"
          ],
          "name": "stdout"
        }
      ]
    },
    {
      "cell_type": "code",
      "metadata": {
        "id": "9Fan0um6s_0k",
        "colab": {
          "base_uri": "https://localhost:8080/"
        },
        "outputId": "366784f9-a036-4fe4-9d91-9a0e95ce1880"
      },
      "source": [
        "print(country_info)\n",
        "country_info['regions']=['Hokkaido','Tohoku', 'Kanto',' Chubu', 'Kinki',' Chugoku', 'Shikoku',' Kyushu-Okinawa']\n",
        "print(country_info)"
      ],
      "execution_count": null,
      "outputs": [
        {
          "output_type": "stream",
          "text": [
            "{'Name': 'Japan', 'Capital': 'Tokoyo', 'population': 139.67}\n",
            "{'Name': 'Japan', 'Capital': 'Tokoyo', 'population': 139.67, 'regions': ['Hokkaido', 'Tohoku', 'Kanto', ' Chubu', 'Kinki', ' Chugoku', 'Shikoku', ' Kyushu-Okinawa']}\n"
          ],
          "name": "stdout"
        }
      ]
    },
    {
      "cell_type": "code",
      "metadata": {
        "id": "WuSZDnzAt_Z9",
        "colab": {
          "base_uri": "https://localhost:8080/"
        },
        "outputId": "65815404-a39f-433c-cb05-ab157969f458"
      },
      "source": [
        "x=2\n",
        "y=3\n",
        "#Addition\n",
        "print(\"addition of x and y is \",x+y)\n",
        "#subtraction\n",
        "print(\"subtraction of x and y is \",x-y)\n",
        "#multiplication\n",
        "print(\"multiplication of x and y is\",x*y)\n",
        "#division\n",
        "print(\"division of x and y is \",x/y)\n",
        "print(\"thank you\")"
      ],
      "execution_count": null,
      "outputs": [
        {
          "output_type": "stream",
          "text": [
            "addition of x and y is  5\n",
            "subtraction of x and y is  -1\n",
            "multiplication of x and y is 6\n",
            "division of x and y is  0.6666666666666666\n",
            "thank you\n"
          ],
          "name": "stdout"
        }
      ]
    },
    {
      "cell_type": "markdown",
      "metadata": {
        "id": "FRg-6fglx-Oj"
      },
      "source": [
        "conditional statement -----If and Else"
      ]
    },
    {
      "cell_type": "code",
      "metadata": {
        "id": "tIW-fzOrwBtw",
        "colab": {
          "base_uri": "https://localhost:8080/"
        },
        "outputId": "a67e48b3-2b3c-441a-8108-6d840d9f3f1d"
      },
      "source": [
        "#using if statement\n",
        "x=19\n",
        "if x<10 :\n",
        "  print(\"number is less than 10\")\n",
        "else:\n",
        "    print(\"numberis over the 10\")"
      ],
      "execution_count": null,
      "outputs": [
        {
          "output_type": "stream",
          "text": [
            "numberis over the 10\n"
          ],
          "name": "stdout"
        }
      ]
    },
    {
      "cell_type": "code",
      "metadata": {
        "id": "qc6Jp_nly9RW",
        "colab": {
          "base_uri": "https://localhost:8080/"
        },
        "outputId": "a1223f21-f599-423c-a85d-5afde9eadef3"
      },
      "source": [
        "#using if statement\n",
        "x=1\n",
        "if x<10 :\n",
        "  print(\"number is less than 10\")\n",
        "else:\n",
        "    print(\"numberis over the 10\")"
      ],
      "execution_count": null,
      "outputs": [
        {
          "output_type": "stream",
          "text": [
            "number is less than 10\n"
          ],
          "name": "stdout"
        }
      ]
    },
    {
      "cell_type": "code",
      "metadata": {
        "id": "D256WLi-zHM3",
        "colab": {
          "base_uri": "https://localhost:8080/"
        },
        "outputId": "842ee6cf-1d28-49fb-f9a8-cb2ac867b2a1"
      },
      "source": [
        "#using if statement\n",
        "x=1\n",
        "if x<10 :\n",
        "  print(\"number is less than 10\")\n",
        "elif x>10 and x<=19 :\n",
        "  print(\"greater than 10less than 19\")\n",
        "else:\n",
        "    print(\"numberis over the 20\")"
      ],
      "execution_count": null,
      "outputs": [
        {
          "output_type": "stream",
          "text": [
            "number is less than 20\n"
          ],
          "name": "stdout"
        }
      ]
    },
    {
      "cell_type": "markdown",
      "metadata": {
        "id": "Gp609BbtzvRm"
      },
      "source": [
        "boolean conditon"
      ]
    },
    {
      "cell_type": "code",
      "metadata": {
        "id": "ZvTXRXYLzp89",
        "colab": {
          "base_uri": "https://localhost:8080/"
        },
        "outputId": "bed102d9-b11e-45ee-b8d4-cbed81d0788c"
      },
      "source": [
        "a= True\n",
        "if a:\n",
        "  print(\"statement is true\")"
      ],
      "execution_count": null,
      "outputs": [
        {
          "output_type": "stream",
          "text": [
            "statement is true\n"
          ],
          "name": "stdout"
        }
      ]
    },
    {
      "cell_type": "markdown",
      "metadata": {
        "id": "EUOL2hzU0C6k"
      },
      "source": [
        "loops"
      ]
    },
    {
      "cell_type": "code",
      "metadata": {
        "id": "DWTWfd270DqK",
        "colab": {
          "base_uri": "https://localhost:8080/"
        },
        "outputId": "22a4ca26-8a4b-4ec1-a472-76250957ac71"
      },
      "source": [
        "print(list(range(5)))"
      ],
      "execution_count": null,
      "outputs": [
        {
          "output_type": "stream",
          "text": [
            "[0, 1, 2, 3, 4]\n"
          ],
          "name": "stdout"
        }
      ]
    },
    {
      "cell_type": "code",
      "metadata": {
        "id": "2xWJTGAe0Sni",
        "colab": {
          "base_uri": "https://localhost:8080/"
        },
        "outputId": "aaa215b9-63d9-4c35-d8ff-181d064cbb80"
      },
      "source": [
        "print(list(range(1,5)))"
      ],
      "execution_count": null,
      "outputs": [
        {
          "output_type": "stream",
          "text": [
            "[1, 2, 3, 4]\n"
          ],
          "name": "stdout"
        }
      ]
    },
    {
      "cell_type": "code",
      "metadata": {
        "id": "FVQ0Tu4p0YBG",
        "colab": {
          "base_uri": "https://localhost:8080/"
        },
        "outputId": "b30c046b-fd6d-4222-fa23-990cf9cb9a5d"
      },
      "source": [
        "for i in range(0,5):\n",
        " print(i)"
      ],
      "execution_count": null,
      "outputs": [
        {
          "output_type": "stream",
          "text": [
            "0\n",
            "1\n",
            "2\n",
            "3\n",
            "4\n"
          ],
          "name": "stdout"
        }
      ]
    },
    {
      "cell_type": "code",
      "metadata": {
        "id": "dR-RRhRD0fdX",
        "colab": {
          "base_uri": "https://localhost:8080/"
        },
        "outputId": "78802ec2-9aa1-4939-f654-99ecf5dc6c9c"
      },
      "source": [
        "items=['a','b','c','d']\n",
        "for i in items:\n",
        "   print(i)"
      ],
      "execution_count": null,
      "outputs": [
        {
          "output_type": "stream",
          "text": [
            "a\n",
            "b\n",
            "c\n",
            "d\n"
          ],
          "name": "stdout"
        }
      ]
    },
    {
      "cell_type": "code",
      "metadata": {
        "id": "amycED8J0_Yz"
      },
      "source": [
        "#while loops"
      ],
      "execution_count": null,
      "outputs": []
    },
    {
      "cell_type": "code",
      "metadata": {
        "id": "gGi-54oY1ZMa",
        "colab": {
          "base_uri": "https://localhost:8080/"
        },
        "outputId": "5ff6d271-7d65-42ad-ee83-619f111aa971"
      },
      "source": [
        "x=0\n",
        "while x<5:\n",
        "   x += 1\n",
        "   print(x)"
      ],
      "execution_count": null,
      "outputs": [
        {
          "output_type": "stream",
          "text": [
            "1\n",
            "2\n",
            "3\n",
            "4\n",
            "5\n"
          ],
          "name": "stdout"
        }
      ]
    },
    {
      "cell_type": "code",
      "metadata": {
        "id": "47XfcbWc1rpe",
        "colab": {
          "base_uri": "https://localhost:8080/"
        },
        "outputId": "2d2c075a-8821-48e0-ae6d-d109a95f8cd2"
      },
      "source": [
        "x=0\n",
        "while True :\n",
        "   if x==5:\n",
        "      break\n",
        "   x+=1\n",
        "   print(x)"
      ],
      "execution_count": null,
      "outputs": [
        {
          "output_type": "stream",
          "text": [
            "1\n",
            "2\n",
            "3\n",
            "4\n",
            "5\n"
          ],
          "name": "stdout"
        }
      ]
    },
    {
      "cell_type": "markdown",
      "metadata": {
        "id": "Rtuo2HPn2jii"
      },
      "source": [
        "fuctions"
      ]
    },
    {
      "cell_type": "code",
      "metadata": {
        "id": "jYo-3DaH2k-J"
      },
      "source": [
        "#simple functions to area of circle\n",
        "def Areaofcircle(radius):\n",
        "  \n",
        "area=3.142*(radius**2)\n",
        "return area\n"
      ],
      "execution_count": null,
      "outputs": []
    },
    {
      "cell_type": "code",
      "metadata": {
        "id": "Pv5HQ4Of3a-u"
      },
      "source": [
        "# Simple Functions to Return Area of Circle\n",
        "def Areacircle(radius):\n",
        "    area = 3.14 * (radius**2)\n",
        "    return area"
      ],
      "execution_count": null,
      "outputs": []
    },
    {
      "cell_type": "code",
      "metadata": {
        "id": "UEo7ngEb3Wdd",
        "colab": {
          "base_uri": "https://localhost:8080/"
        },
        "outputId": "d65e429f-34ce-49d7-f01d-5a3295b46ea0"
      },
      "source": [
        "Areacircle(4)"
      ],
      "execution_count": null,
      "outputs": [
        {
          "output_type": "execute_result",
          "data": {
            "text/plain": [
              "50.24"
            ]
          },
          "metadata": {
            "tags": []
          },
          "execution_count": 52
        }
      ]
    },
    {
      "cell_type": "code",
      "metadata": {
        "id": "URL1A53I0HkR"
      },
      "source": [
        "#simple functions to return volume of cylinder\n",
        "def volumecylinder(radius,height):\n",
        " volume=3.142*radius**2*height\n",
        " return volume\n"
      ],
      "execution_count": null,
      "outputs": []
    },
    {
      "cell_type": "code",
      "metadata": {
        "id": "b5YuFNe70JtM",
        "colab": {
          "base_uri": "https://localhost:8080/"
        },
        "outputId": "c885154b-cfc2-42db-9726-ae116eda5c70"
      },
      "source": [
        "volumecylinder(60,40)"
      ],
      "execution_count": null,
      "outputs": [
        {
          "output_type": "execute_result",
          "data": {
            "text/plain": [
              "452447.99999999994"
            ]
          },
          "metadata": {
            "tags": []
          },
          "execution_count": 23
        }
      ]
    },
    {
      "cell_type": "code",
      "metadata": {
        "id": "shrYSwSW0PoN"
      },
      "source": [
        ""
      ],
      "execution_count": null,
      "outputs": []
    }
  ]
}