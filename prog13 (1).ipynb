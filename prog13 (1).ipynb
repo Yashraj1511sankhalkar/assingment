{
  "nbformat": 4,
  "nbformat_minor": 0,
  "metadata": {
    "colab": {
      "name": "prog13.ipynb",
      "provenance": []
    },
    "kernelspec": {
      "name": "python3",
      "display_name": "Python 3"
    }
  },
  "cells": [
    {
      "cell_type": "code",
      "metadata": {
        "colab": {
          "base_uri": "https://localhost:8080/"
        },
        "id": "YcOZNoJvvv2a",
        "outputId": "288ced05-1b49-4968-8a10-2448491197ae"
      },
      "source": [
        "pip install numpy"
      ],
      "execution_count": null,
      "outputs": [
        {
          "output_type": "stream",
          "text": [
            "Requirement already satisfied: numpy in /usr/local/lib/python3.6/dist-packages (1.19.4)\n"
          ],
          "name": "stdout"
        }
      ]
    },
    {
      "cell_type": "code",
      "metadata": {
        "colab": {
          "base_uri": "https://localhost:8080/"
        },
        "id": "TPG-0KNapzK4",
        "outputId": "88422595-9416-4a55-e759-82cf6181c386"
      },
      "source": [
        "import numpy as np\n",
        "arr=np.array([1,2,3,4,5])\n",
        "print(arr)\n"
      ],
      "execution_count": null,
      "outputs": [
        {
          "output_type": "stream",
          "text": [
            "[1 2 3 4 5]\n"
          ],
          "name": "stdout"
        }
      ]
    },
    {
      "cell_type": "code",
      "metadata": {
        "colab": {
          "base_uri": "https://localhost:8080/"
        },
        "id": "UkpijeCBszCj",
        "outputId": "a7721142-4b3d-4e33-c40a-00683136a051"
      },
      "source": [
        "import numpy \n",
        "arr=numpy.array([1,2,3,4,5])\n",
        "print(arr)"
      ],
      "execution_count": null,
      "outputs": [
        {
          "output_type": "stream",
          "text": [
            "[1 2 3 4 5]\n"
          ],
          "name": "stdout"
        }
      ]
    },
    {
      "cell_type": "code",
      "metadata": {
        "colab": {
          "base_uri": "https://localhost:8080/"
        },
        "id": "XTPJHkyos-mC",
        "outputId": "580fadc5-ffd4-4616-bb68-de73b1e82d92"
      },
      "source": [
        "import numpy as np\n",
        "print(np.__version__)"
      ],
      "execution_count": null,
      "outputs": [
        {
          "output_type": "stream",
          "text": [
            "1.18.5\n"
          ],
          "name": "stdout"
        }
      ]
    },
    {
      "cell_type": "markdown",
      "metadata": {
        "id": "jLW0h_LatYB5"
      },
      "source": [
        "creating a numpy ndarrayobject"
      ]
    },
    {
      "cell_type": "code",
      "metadata": {
        "colab": {
          "base_uri": "https://localhost:8080/"
        },
        "id": "7R69_4q2tIpM",
        "outputId": "65f7013e-f444-4aa8-8a07-fa61e30456d5"
      },
      "source": [
        "import numpy as np\n",
        "arr=np.array([1,2,3,4,5])\n",
        "print(arr)\n",
        "print(type(arr))"
      ],
      "execution_count": null,
      "outputs": [
        {
          "output_type": "stream",
          "text": [
            "[1 2 3 4 5]\n",
            "<class 'numpy.ndarray'>\n"
          ],
          "name": "stdout"
        }
      ]
    },
    {
      "cell_type": "code",
      "metadata": {
        "colab": {
          "base_uri": "https://localhost:8080/"
        },
        "id": "rtd4yxzNtmVr",
        "outputId": "0f7070cd-1907-4616-be55-c949be0e0478"
      },
      "source": [
        "import numpy as np\n",
        "arr = np.array([[1,2,3,4,5],[6,7,8,9,10]])\n",
        "print(arr)\n",
        "print(type(arr))"
      ],
      "execution_count": null,
      "outputs": [
        {
          "output_type": "stream",
          "text": [
            "[[ 1  2  3  4  5]\n",
            " [ 6  7  8  9 10]]\n",
            "<class 'numpy.ndarray'>\n"
          ],
          "name": "stdout"
        }
      ]
    },
    {
      "cell_type": "code",
      "metadata": {
        "colab": {
          "base_uri": "https://localhost:8080/"
        },
        "id": "ahkhajp9uBax",
        "outputId": "34d85f42-3881-4375-ff23-d58d185e98af"
      },
      "source": [
        "import numpy as np\n",
        "arr = np.array([[[1,2,3,4,5],[4,5,6]],[[6,7,8],[6,7,8,9,10]]])\n",
        "print(arr)\n",
        "print(type(arr))"
      ],
      "execution_count": null,
      "outputs": [
        {
          "output_type": "stream",
          "text": [
            "[[list([1, 2, 3, 4, 5]) list([4, 5, 6])]\n",
            " [list([6, 7, 8]) list([6, 7, 8, 9, 10])]]\n",
            "<class 'numpy.ndarray'>\n"
          ],
          "name": "stdout"
        }
      ]
    },
    {
      "cell_type": "code",
      "metadata": {
        "colab": {
          "base_uri": "https://localhost:8080/"
        },
        "id": "EhF2tSYFugMB",
        "outputId": "0fc7f387-cb4a-4ba5-86b0-e89fbe8d4463"
      },
      "source": [
        "import numpy as np\n",
        "a= np.array(456)\n",
        "b= np.array([1,2,3,4,5,6,7])\n",
        "c= np.array([[1,2,3,4,5,],[6,7,8,9,10]])\n",
        "d=np.array([[[1,2,3],[4,5,6]],[[7,8,9],[10,11,12]]])\n",
        "print(a.ndim)\n",
        "print(b.ndim)\n",
        "print(c.ndim)\n",
        "print(d.ndim)\n"
      ],
      "execution_count": null,
      "outputs": [
        {
          "output_type": "stream",
          "text": [
            "0\n",
            "1\n",
            "2\n",
            "3\n"
          ],
          "name": "stdout"
        }
      ]
    },
    {
      "cell_type": "code",
      "metadata": {
        "id": "l_mAEESZv9HM"
      },
      "source": [
        "import numpy as np\n",
        "a= np.array(456)\n",
        "b= np.array([1,2,3,4,5,6,7])"
      ],
      "execution_count": null,
      "outputs": []
    },
    {
      "cell_type": "code",
      "metadata": {
        "colab": {
          "base_uri": "https://localhost:8080/"
        },
        "id": "nhal7TZdwSYm",
        "outputId": "49942906-e2ce-434f-9425-8c0c20cc225c"
      },
      "source": [
        "import numpy as np\n",
        "b= np.array([1,2,3,4,5,6,7])\n",
        "print(b[2]+b[4])"
      ],
      "execution_count": null,
      "outputs": [
        {
          "output_type": "stream",
          "text": [
            "8\n"
          ],
          "name": "stdout"
        }
      ]
    },
    {
      "cell_type": "code",
      "metadata": {
        "colab": {
          "base_uri": "https://localhost:8080/"
        },
        "id": "8Iqi9LlDwdrm",
        "outputId": "44ef22b8-9b0a-4d0f-e97f-69defff612e4"
      },
      "source": [
        "import numpy as np\n",
        "c= np.array([[1,2,3,4,5,],[6,7,8,9,10]])\n",
        "d=np.array([[[1,2,3],[4,5,6]],[[7,8,9],[10,11,12]]])\n",
        "print(c)\n",
        "print('5th element on 2nd dim',c[1,4])"
      ],
      "execution_count": null,
      "outputs": [
        {
          "output_type": "stream",
          "text": [
            "[[ 1  2  3  4  5]\n",
            " [ 6  7  8  9 10]]\n",
            "5th element on 2nd dim 10\n"
          ],
          "name": "stdout"
        }
      ]
    },
    {
      "cell_type": "code",
      "metadata": {
        "colab": {
          "base_uri": "https://localhost:8080/"
        },
        "id": "NnRxvVKNxSxu",
        "outputId": "02974c39-2245-4be9-b17f-0460bf547aff"
      },
      "source": [
        "import numpy as np\n",
        "c= np.array([[[1,2,3,],[4,5,6]],[[6,7,8],[9,10,11]]])\n",
        "print(c)\n",
        "print('Print the third element of second array of the first array: ', c[0,1,2])"
      ],
      "execution_count": null,
      "outputs": [
        {
          "output_type": "stream",
          "text": [
            "[[[ 1  2  3]\n",
            "  [ 4  5  6]]\n",
            "\n",
            " [[ 6  7  8]\n",
            "  [ 9 10 11]]]\n",
            "Print the third element of second array of the first array:  6\n"
          ],
          "name": "stdout"
        }
      ]
    },
    {
      "cell_type": "code",
      "metadata": {
        "colab": {
          "base_uri": "https://localhost:8080/"
        },
        "id": "x9B9uYgCxkGy",
        "outputId": "c1ca1791-475f-4f15-b815-208a7d5f2771"
      },
      "source": [
        "import numpy as np\n",
        "c= np.array([[1,2,3,4,5,],[6,7,8,9,10]])\n",
        "print(c)\n",
        "print('last element from 2nd dimension:',c[1,-1])"
      ],
      "execution_count": null,
      "outputs": [
        {
          "output_type": "stream",
          "text": [
            "[[ 1  2  3  4  5]\n",
            " [ 6  7  8  9 10]]\n",
            "last element from 2nd dimension: 10\n"
          ],
          "name": "stdout"
        }
      ]
    },
    {
      "cell_type": "code",
      "metadata": {
        "colab": {
          "base_uri": "https://localhost:8080/"
        },
        "id": "JhjVQ5VBzCmb",
        "outputId": "c6d63fbb-62f0-45c4-e24f-fa351de0749f"
      },
      "source": [
        "import numpy as np\n",
        "c= np.array([1,2,3,4,5,6,7,8,9,10])\n",
        "print(c[0:6])\n",
        "print(c[1:6])\n",
        "print(c[3:7])\n",
        "print(c[1:5])\n",
        "print(c[5:])\n",
        "print(c[6:])\n"
      ],
      "execution_count": null,
      "outputs": [
        {
          "output_type": "stream",
          "text": [
            "[1 2 3 4 5 6]\n",
            "[2 3 4 5 6]\n",
            "[4 5 6 7]\n",
            "[2 3 4 5]\n",
            "[ 6  7  8  9 10]\n",
            "[ 7  8  9 10]\n"
          ],
          "name": "stdout"
        }
      ]
    },
    {
      "cell_type": "code",
      "metadata": {
        "colab": {
          "base_uri": "https://localhost:8080/"
        },
        "id": "xVfvltCZzQVN",
        "outputId": "9379a142-ac37-4332-a76a-6279120c96da"
      },
      "source": [
        "import numpy as np\n",
        "d= np.array([1,2,3,4,5,6,7,8,9,10,34,76,56,78,13])\n",
        "print(d[-3:-1])\n",
        "print(d[1:5:2])\n",
        "print(d[2:5:3])\n",
        "print(d[::5])"
      ],
      "execution_count": null,
      "outputs": [
        {
          "output_type": "stream",
          "text": [
            "[56 78]\n",
            "[2 4]\n",
            "[3]\n",
            "[ 1  6 34]\n"
          ],
          "name": "stdout"
        }
      ]
    },
    {
      "cell_type": "code",
      "metadata": {
        "id": "ssP0bUKI0BH5"
      },
      "source": [
        ""
      ],
      "execution_count": null,
      "outputs": []
    },
    {
      "cell_type": "code",
      "metadata": {
        "colab": {
          "base_uri": "https://localhost:8080/"
        },
        "id": "kst5p_ex1Dbd",
        "outputId": "982d39cc-8481-4bff-bfa0-39dfe407ad74"
      },
      "source": [
        "import numpy as np\n",
        "c= np.array([[1,2,3,4,5,6,7,8],[9,10,34,76,56,78,13,54]])\n",
        "print(c[0:2,1:4])"
      ],
      "execution_count": null,
      "outputs": [
        {
          "output_type": "stream",
          "text": [
            "[[ 2  3  4]\n",
            " [10 34 76]]\n"
          ],
          "name": "stdout"
        }
      ]
    },
    {
      "cell_type": "code",
      "metadata": {
        "id": "ZlxYG92o1aEC"
      },
      "source": [
        ""
      ],
      "execution_count": null,
      "outputs": []
    },
    {
      "cell_type": "code",
      "metadata": {
        "colab": {
          "base_uri": "https://localhost:8080/"
        },
        "id": "owMfRLqC2VrL",
        "outputId": "33da7dba-ea1a-4daf-89f2-55109e5ef4c0"
      },
      "source": [
        "import numpy as np\n",
        "d= np.array([1,2,3,4,5,6,7,8,9,10,34,76,56,78,13])\n",
        "print(d.dtype)"
      ],
      "execution_count": null,
      "outputs": [
        {
          "output_type": "stream",
          "text": [
            "int64\n"
          ],
          "name": "stdout"
        }
      ]
    },
    {
      "cell_type": "code",
      "metadata": {
        "colab": {
          "base_uri": "https://localhost:8080/"
        },
        "id": "-84MQIMo2esR",
        "outputId": "71f28393-536c-48d3-b85d-231370146325"
      },
      "source": [
        "import numpy as np\n",
        "d= np.array(['adi','harsh','gaurang','rohan','kaizar','yatin'])\n",
        "print(d.dtype)\n"
      ],
      "execution_count": null,
      "outputs": [
        {
          "output_type": "stream",
          "text": [
            "<U7\n"
          ],
          "name": "stdout"
        }
      ]
    },
    {
      "cell_type": "code",
      "metadata": {
        "colab": {
          "base_uri": "https://localhost:8080/"
        },
        "id": "1QoC6gWT2eH2",
        "outputId": "a0ca714c-3a80-4309-c4e5-b0798b595ff6"
      },
      "source": [
        "import numpy as np\n",
        "c= np.array([1,45,34,2,56,89,79,4,34,52,34])\n",
        "newarry=c.astype(int)\n",
        "print(newarry)\n",
        "print(newarry.dtype)\n",
        "print(c.dtype)"
      ],
      "execution_count": null,
      "outputs": [
        {
          "output_type": "stream",
          "text": [
            "[ 1 45 34  2 56 89 79  4 34 52 34]\n",
            "int64\n",
            "int64\n"
          ],
          "name": "stdout"
        }
      ]
    },
    {
      "cell_type": "code",
      "metadata": {
        "id": "fMtTl6u_5oOo"
      },
      "source": [
        ""
      ],
      "execution_count": null,
      "outputs": []
    }
  ]
}